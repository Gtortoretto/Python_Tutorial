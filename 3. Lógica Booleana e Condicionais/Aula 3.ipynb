{
 "cells": [
  {
   "cell_type": "markdown",
   "id": "e856f1db",
   "metadata": {},
   "source": [
    "‎ \n",
    "\n",
    "___\n",
    "\n",
    "‎ \n",
    "\n",
    "> # 1. Operadores Booleanos\n",
    "\n",
    "Já vimos que Booleanos são tipos de dados que podem ser verdadeiros `True` ou falsos `False`. Os operadores booleanos são operadores que resultam em um tipo `Bool`\n",
    "\n",
    "‎ \n",
    "___\n",
    "\n",
    "‎ \n",
    "\n",
    "## 1.1 Operadores de Comparação\n",
    "\n",
    "- `==` : Igual a\n",
    "\n",
    "‎ \n",
    "\n",
    "- `!=` : Diferente de \n",
    "\n",
    "‎\n",
    "\n",
    "- `>` e `<` : Maior e Menor que \n",
    "\n",
    "‎\n",
    "\n",
    "- `>=` e `<=` : Maior ou igual e Menor ou igual que \n",
    "\n",
    "‎\n"
   ]
  },
  {
   "cell_type": "code",
   "execution_count": 10,
   "id": "d90781a2",
   "metadata": {},
   "outputs": [
    {
     "name": "stdout",
     "output_type": "stream",
     "text": [
      "True\n",
      "True\n"
     ]
    }
   ],
   "source": [
    "print(1 == 1)\n",
    "\n",
    "print(1 == 1.0)"
   ]
  },
  {
   "cell_type": "code",
   "execution_count": 4,
   "id": "e10dbf0f",
   "metadata": {},
   "outputs": [
    {
     "data": {
      "text/plain": [
       "False"
      ]
     },
     "execution_count": 4,
     "metadata": {},
     "output_type": "execute_result"
    }
   ],
   "source": [
    "x = 1\n",
    "y = 2\n",
    "\n",
    "x == y"
   ]
  },
  {
   "cell_type": "code",
   "execution_count": 21,
   "id": "e449167d",
   "metadata": {},
   "outputs": [
    {
     "name": "stdout",
     "output_type": "stream",
     "text": [
      "True\n"
     ]
    }
   ],
   "source": [
    "x = 1 \n",
    "y = \"a\"\n",
    "\n",
    "z = x != y\n",
    "\n",
    "print(z)"
   ]
  },
  {
   "cell_type": "code",
   "execution_count": 11,
   "id": "921dfbc3",
   "metadata": {},
   "outputs": [
    {
     "name": "stdout",
     "output_type": "stream",
     "text": [
      "True\n",
      "False\n"
     ]
    }
   ],
   "source": [
    "print(\"1\" == str(1))\n",
    "\n",
    "print(\"a\" == \"A\")"
   ]
  },
  {
   "cell_type": "code",
   "execution_count": 19,
   "id": "2ddae235",
   "metadata": {},
   "outputs": [
    {
     "data": {
      "text/plain": [
       "False"
      ]
     },
     "execution_count": 19,
     "metadata": {},
     "output_type": "execute_result"
    }
   ],
   "source": [
    "\"a\" == f\"ab\\b\""
   ]
  },
  {
   "cell_type": "code",
   "execution_count": 30,
   "id": "d52ba161",
   "metadata": {},
   "outputs": [
    {
     "name": "stdout",
     "output_type": "stream",
     "text": [
      "True\n",
      "True\n",
      "False\n"
     ]
    }
   ],
   "source": [
    "print(True == True)\n",
    "\n",
    "print(False == False)\n",
    "\n",
    "print(True == False)"
   ]
  },
  {
   "cell_type": "code",
   "execution_count": 29,
   "id": "69d49405",
   "metadata": {},
   "outputs": [
    {
     "name": "stdout",
     "output_type": "stream",
     "text": [
      "True\n",
      "True\n",
      "\n",
      "-------------------\n",
      "\n",
      "False\n",
      "False\n"
     ]
    }
   ],
   "source": [
    "print(1 == True)\n",
    "\n",
    "print(0 == False)\n",
    "\n",
    "print(f\"\\n-------------------\\n\")\n",
    "\n",
    "print(2 == True)\n",
    "\n",
    "print(-1 == False)"
   ]
  },
  {
   "cell_type": "code",
   "execution_count": 8,
   "id": "6d729d7b",
   "metadata": {},
   "outputs": [
    {
     "name": "stdout",
     "output_type": "stream",
     "text": [
      "True\n",
      "True\n"
     ]
    }
   ],
   "source": [
    "print(True <= 3)\n",
    "\n",
    "print(False >= -3)"
   ]
  },
  {
   "cell_type": "code",
   "execution_count": 20,
   "id": "7d420516",
   "metadata": {},
   "outputs": [
    {
     "name": "stdout",
     "output_type": "stream",
     "text": [
      "False\n",
      "True\n"
     ]
    }
   ],
   "source": [
    "lista_1 = [1, 2, 3]\n",
    "\n",
    "lista_2 = [1, 3, \"0\"]\n",
    "\n",
    "print(lista_1 == lista_2)\n",
    "\n",
    "print(lista_1 < lista_2)"
   ]
  },
  {
   "cell_type": "markdown",
   "id": "d882ea55",
   "metadata": {},
   "source": [
    "‎ \n",
    "___\n",
    "\n",
    "‎ \n",
    "\n",
    "## 1.2 Operadores Lógicos\n",
    "\n",
    "\n",
    "Operadores lógicos são utilizados para avaliar conjuntos de expressões.\n",
    "\n",
    "‎ \n",
    "\n",
    "- `and` : Retorna `True` se ambas as expressões forem verdadeiras.\n",
    "\n",
    "\n",
    "‎ \n",
    "\n",
    "- `or` : Retorna `True` se alguma das expressões forem verdadeiras.\n",
    "\n",
    "‎ \n",
    "\n",
    "- `not` : Retorna `True` se a expressão for falsa e `False` se for verdadeira\n",
    "\n",
    "‎ \n",
    "\n",
    "**Tabela Verdade**\n",
    "\n",
    "| X | Y | X and Y | X or Y | not(X) | not(Y) |\n",
    "| :---: | :---: | :---: | :---: | :---: | :---: |\n",
    "| T | T | T | T | F | F |\n",
    "| T | F | F | T | F | T |\n",
    "| F | T | F | T | T | F |\n",
    "| F | F | F | F | T | T |\n",
    "\n",
    "‎ \n",
    "\n",
    "**Precedência**\n",
    "\n",
    "| Precedência | Operador |\n",
    "| :---: | :--- |\n",
    "| 1 | `()` |\n",
    "| 1 | `[]`, `.` |\n",
    "| 2 | `**` |\n",
    "| 3 | `+x`, `-x`, `~x` |\n",
    "| 4 | `*`, `/`, `//`, `%` |\n",
    "| 5 | `+`, `-` |\n",
    "| 6 | `==`, `!=`, `>`, `>=`, `<`, `<=`, `is`, `is not`, `in`, `not in` |\n",
    "| 7 | `not` |\n",
    "| 8 | `and` |\n",
    "| 9 | `or` |\n",
    "\n",
    "‎"
   ]
  },
  {
   "cell_type": "code",
   "execution_count": 5,
   "id": "bd8821fd",
   "metadata": {},
   "outputs": [
    {
     "name": "stdout",
     "output_type": "stream",
     "text": [
      "True\n",
      "False\n"
     ]
    }
   ],
   "source": [
    "print(True and True)\n",
    "\n",
    "print(True and False)"
   ]
  },
  {
   "cell_type": "code",
   "execution_count": 14,
   "id": "1492f0a1",
   "metadata": {},
   "outputs": [
    {
     "data": {
      "text/plain": [
       "False"
      ]
     },
     "execution_count": 14,
     "metadata": {},
     "output_type": "execute_result"
    }
   ],
   "source": [
    "x, y, z = 1, 2, 3\n",
    "\n",
    "x > z and z < y"
   ]
  },
  {
   "cell_type": "code",
   "execution_count": 15,
   "id": "573dde15",
   "metadata": {},
   "outputs": [
    {
     "name": "stdout",
     "output_type": "stream",
     "text": [
      "Sem parênteses: True\n",
      "Com parênteses: False\n"
     ]
    }
   ],
   "source": [
    "x, y, z = True, False, False\n",
    "\n",
    "print(f\"Sem parênteses: {x or y and z}\")  \n",
    "\n",
    "print(f\"Com parênteses: {(x or y) and z}\")"
   ]
  },
  {
   "cell_type": "code",
   "execution_count": 16,
   "id": "9a2abeec",
   "metadata": {},
   "outputs": [
    {
     "name": "stdout",
     "output_type": "stream",
     "text": [
      "True\n"
     ]
    }
   ],
   "source": [
    "x, y, z = False, False, True\n",
    "\n",
    "print(f\"{not x and y or z}\")"
   ]
  },
  {
   "cell_type": "code",
   "execution_count": 17,
   "id": "60a93748",
   "metadata": {},
   "outputs": [
    {
     "name": "stdout",
     "output_type": "stream",
     "text": [
      "w\n"
     ]
    }
   ],
   "source": [
    "x, y, z, w = False, \"y\", True, \"w\"\n",
    "\n",
    "print(f\"{(x and y) or (z and w) or 'Default'}\")"
   ]
  },
  {
   "cell_type": "code",
   "execution_count": 21,
   "id": "07fb55af",
   "metadata": {},
   "outputs": [
    {
     "name": "stdout",
     "output_type": "stream",
     "text": [
      "False\n"
     ]
    },
    {
     "ename": "ZeroDivisionError",
     "evalue": "division by zero",
     "output_type": "error",
     "traceback": [
      "\u001b[1;31m---------------------------------------------------------------------------\u001b[0m",
      "\u001b[1;31mZeroDivisionError\u001b[0m                         Traceback (most recent call last)",
      "Cell \u001b[1;32mIn[21], line 7\u001b[0m\n\u001b[0;32m      3\u001b[0m x, y \u001b[38;5;241m=\u001b[39m \u001b[38;5;28;01mFalse\u001b[39;00m, \u001b[38;5;28;01mTrue\u001b[39;00m\n\u001b[0;32m      5\u001b[0m \u001b[38;5;28mprint\u001b[39m(x \u001b[38;5;129;01mand\u001b[39;00m \u001b[38;5;241m10\u001b[39m\u001b[38;5;241m/\u001b[39m\u001b[38;5;241m0\u001b[39m)\n\u001b[1;32m----> 7\u001b[0m \u001b[38;5;28mprint\u001b[39m(y \u001b[38;5;129;01mand\u001b[39;00m \u001b[38;5;241;43m10\u001b[39;49m\u001b[38;5;241;43m/\u001b[39;49m\u001b[38;5;241;43m0\u001b[39;49m)\n",
      "\u001b[1;31mZeroDivisionError\u001b[0m: division by zero"
     ]
    }
   ],
   "source": [
    "# Exemplo de Short Circuit\n",
    "\n",
    "x, y = False, True\n",
    "\n",
    "print(x and 10/0)\n",
    "\n",
    "print(y and 10/0)\n"
   ]
  },
  {
   "cell_type": "code",
   "execution_count": 25,
   "id": "c1e67e50",
   "metadata": {},
   "outputs": [
    {
     "name": "stdout",
     "output_type": "stream",
     "text": [
      "False\n"
     ]
    },
    {
     "ename": "NameError",
     "evalue": "name 'var' is not defined",
     "output_type": "error",
     "traceback": [
      "\u001b[1;31m---------------------------------------------------------------------------\u001b[0m",
      "\u001b[1;31mNameError\u001b[0m                                 Traceback (most recent call last)",
      "Cell \u001b[1;32mIn[25], line 5\u001b[0m\n\u001b[0;32m      1\u001b[0m x \u001b[38;5;241m=\u001b[39m \u001b[38;5;28;01mFalse\u001b[39;00m\n\u001b[0;32m      3\u001b[0m \u001b[38;5;28mprint\u001b[39m(x \u001b[38;5;129;01mand\u001b[39;00m (var \u001b[38;5;241m:=\u001b[39m \u001b[38;5;241m10\u001b[39m))\n\u001b[1;32m----> 5\u001b[0m \u001b[38;5;28mprint\u001b[39m(\u001b[43mvar\u001b[49m)\n",
      "\u001b[1;31mNameError\u001b[0m: name 'var' is not defined"
     ]
    }
   ],
   "source": [
    "x = False\n",
    "\n",
    "print(x and (var := 10))\n",
    "\n",
    "print(var)\n"
   ]
  },
  {
   "cell_type": "markdown",
   "id": "39c22c39",
   "metadata": {},
   "source": [
    "‎ \n",
    "___\n",
    "\n",
    "‎ \n",
    "\n",
    "## 1.3 Operadores de Identidade\n",
    "\n",
    "- `is` e `is not`: Verifica se dois objetos apontam para o mesmo objeto na memória.\n",
    "\n",
    "‎\n",
    "\n",
    "- `in` : Verifica se um objeto faz parte de outro.\n",
    "\n",
    "‎"
   ]
  },
  {
   "cell_type": "code",
   "execution_count": 33,
   "id": "329cbb19",
   "metadata": {},
   "outputs": [
    {
     "name": "stdout",
     "output_type": "stream",
     "text": [
      "True\n",
      "True\n"
     ]
    }
   ],
   "source": [
    "x = \"A\"\n",
    "y = \"A\"\n",
    "\n",
    "print(x == y)\n",
    "\n",
    "print(x is y)"
   ]
  },
  {
   "cell_type": "code",
   "execution_count": 34,
   "id": "a232f45a",
   "metadata": {},
   "outputs": [
    {
     "name": "stdout",
     "output_type": "stream",
     "text": [
      "True\n",
      "False\n"
     ]
    }
   ],
   "source": [
    "x = \"1\"\n",
    "y = str(1)\n",
    "\n",
    "print(x == y)\n",
    "\n",
    "print(x is y)"
   ]
  },
  {
   "cell_type": "code",
   "execution_count": 35,
   "id": "e7052256",
   "metadata": {},
   "outputs": [
    {
     "name": "stdout",
     "output_type": "stream",
     "text": [
      "True\n",
      "False\n"
     ]
    }
   ],
   "source": [
    "x = [1]\n",
    "y = [1]\n",
    "\n",
    "print(x == y)\n",
    "\n",
    "print(x is y)"
   ]
  },
  {
   "cell_type": "code",
   "execution_count": 37,
   "id": "7b232ba6",
   "metadata": {},
   "outputs": [
    {
     "name": "stdout",
     "output_type": "stream",
     "text": [
      "True\n",
      "5\n"
     ]
    }
   ],
   "source": [
    "x = \"a\"\n",
    "y = \"Abelha\"\n",
    "\n",
    "print(x in y)\n",
    "\n",
    "print(y.find(x))"
   ]
  },
  {
   "cell_type": "code",
   "execution_count": 38,
   "id": "13d6df6b",
   "metadata": {},
   "outputs": [
    {
     "ename": "TypeError",
     "evalue": "argument of type 'int' is not iterable",
     "output_type": "error",
     "traceback": [
      "\u001b[1;31m---------------------------------------------------------------------------\u001b[0m",
      "\u001b[1;31mTypeError\u001b[0m                                 Traceback (most recent call last)",
      "Cell \u001b[1;32mIn[38], line 4\u001b[0m\n\u001b[0;32m      1\u001b[0m x \u001b[38;5;241m=\u001b[39m \u001b[38;5;241m1\u001b[39m\n\u001b[0;32m      2\u001b[0m y \u001b[38;5;241m=\u001b[39m \u001b[38;5;241m1212415\u001b[39m\n\u001b[1;32m----> 4\u001b[0m \u001b[38;5;28mprint\u001b[39m(\u001b[43mx\u001b[49m\u001b[43m \u001b[49m\u001b[38;5;129;43;01min\u001b[39;49;00m\u001b[43m \u001b[49m\u001b[43my\u001b[49m)\n",
      "\u001b[1;31mTypeError\u001b[0m: argument of type 'int' is not iterable"
     ]
    }
   ],
   "source": [
    "x = 1\n",
    "y = 1212415\n",
    "\n",
    "print(x in y)"
   ]
  },
  {
   "cell_type": "markdown",
   "id": "a2219648",
   "metadata": {},
   "source": [
    "‎ \n",
    "\n",
    "___\n",
    "\n",
    "‎ \n",
    "\n",
    "> # 2. Estruturas Condicionais\n",
    "\n",
    "Estruturas condicionais utilizam um `bool` para verificar se um trecho de código será executa ou não.\n",
    "\n",
    "‎\n",
    "\n",
    "- `if` : Executa um bloco de código se, e somente se, uma determinada condição for verdadeira.\n",
    "\n",
    "    - Para separar o bloco de execução do `if` o python utiliza a indentação.\n",
    "\n",
    "```python\n",
    "\n",
    "if <condição> :\n",
    "\n",
    "    <código>\n",
    "\n",
    "```\n",
    "\n",
    "\n",
    "- `else` : Executa se e somente se a condição para o `if` for falsa.\n",
    "\n",
    "    - Se a condição do `if` for verdadeira e o código for executado, então o `else` não será executado.\n",
    "\n",
    "```python\n",
    "\n",
    "if <condição> :\n",
    "\n",
    "    <código>\n",
    "\n",
    "else : \n",
    "\n",
    "    <código>\n",
    "\n",
    "```\n",
    "\n",
    "- `elif` : Sempre é testado, mesmo que o `if` execute.\n",
    "\n",
    "    - Pode ter um `else`.\n",
    "\n",
    "```python\n",
    "\n",
    "if <condição> :\n",
    "\n",
    "    <código>\n",
    "\n",
    "elif <condição> : \n",
    "\n",
    "    <código>\n",
    "```"
   ]
  },
  {
   "cell_type": "code",
   "execution_count": null,
   "id": "f9b198c9",
   "metadata": {},
   "outputs": [],
   "source": [
    "idade = input(f\"Qual a sua idade?\\n>\")\n",
    "\n",
    "if int(idade) >= 18: \n",
    "    \n",
    "    print(\"Pode tirar a carteira\")\n",
    "    \n",
    "else: \n",
    "    \n",
    "    print(\"Não pode tirar a carteira\")"
   ]
  },
  {
   "cell_type": "code",
   "execution_count": 41,
   "id": "6c8ee509",
   "metadata": {},
   "outputs": [
    {
     "name": "stdout",
     "output_type": "stream",
     "text": [
      "Pode dirigir\n"
     ]
    }
   ],
   "source": [
    "idade = 18\n",
    "cnh = True\n",
    "\n",
    "if idade >= 18 and cnh == True :\n",
    "    \n",
    "    print(\"Pode dirigir\")\n",
    "    \n",
    "else : \n",
    "    \n",
    "    if idade >= 18 : \n",
    "        \n",
    "        print(\"Pode tirar a carteira\")\n",
    "        \n",
    "    else : \n",
    "        \n",
    "        print(\"Não pode tirar a carteira\")"
   ]
  },
  {
   "cell_type": "code",
   "execution_count": 54,
   "id": "3670bc04",
   "metadata": {},
   "outputs": [
    {
     "name": "stdout",
     "output_type": "stream",
     "text": [
      "Pode dirigir\n"
     ]
    }
   ],
   "source": [
    "idade = 18\n",
    "cnh = True\n",
    "\n",
    "if (maior_idade := idade >= 18) and cnh == True :\n",
    "    \n",
    "    print(\"Pode dirigir\")\n",
    "    \n",
    "elif maior_idade :\n",
    "    \n",
    "    print(\"Pode tirar a carteira\")\n",
    "\n",
    "elif not maior_idade : \n",
    "    \n",
    "    print(\"oxi\")\n",
    "\n",
    "else : \n",
    "    \n",
    "    print(\"Não pode tirar a carteira\")"
   ]
  },
  {
   "cell_type": "code",
   "execution_count": 43,
   "id": "84648743",
   "metadata": {},
   "outputs": [
    {
     "name": "stdout",
     "output_type": "stream",
     "text": [
      "Destino: SP, Cliente Prime: True -> Valor do Frete: R$ 0.00\n"
     ]
    }
   ],
   "source": [
    "destino = 'SP'\n",
    "cliente_prime = True\n",
    "\n",
    "frete = 0.0\n",
    "\n",
    "if destino == 'SP':\n",
    "\n",
    "    if cliente_prime : \n",
    "        \n",
    "        frete = 0.0\n",
    "\n",
    "    else :\n",
    "        \n",
    "        frete = 15.0\n",
    "        \n",
    "elif destino in ('RJ', 'MG'):\n",
    "    \n",
    "    frete = 25.0\n",
    "\n",
    "else:\n",
    "\n",
    "    frete = 40.0\n",
    "\n",
    "print(f\"Destino: {destino}, Cliente Prime: {cliente_prime} -> Valor do Frete: R$ {frete:.2f}\")"
   ]
  },
  {
   "cell_type": "code",
   "execution_count": 48,
   "id": "8bf4825f",
   "metadata": {},
   "outputs": [
    {
     "name": "stdout",
     "output_type": "stream",
     "text": [
      "Antes\n",
      "Depois\n"
     ]
    }
   ],
   "source": [
    "print(\"Antes\")\n",
    "\n",
    "if True: \n",
    "    \n",
    "    pass\n",
    "\n",
    "print(\"Depois\")"
   ]
  },
  {
   "cell_type": "code",
   "execution_count": 70,
   "id": "ea8d2352",
   "metadata": {},
   "outputs": [
    {
     "name": "stdout",
     "output_type": "stream",
     "text": [
      "4\n"
     ]
    }
   ],
   "source": [
    "a = 2\n",
    "\n",
    "if a > 1: a += 1\n",
    "\n",
    "if a > 2: a += 1\n",
    "\n",
    "print(a)"
   ]
  },
  {
   "cell_type": "code",
   "execution_count": 72,
   "id": "2f5205d5",
   "metadata": {},
   "outputs": [
    {
     "name": "stdout",
     "output_type": "stream",
     "text": [
      "3\n"
     ]
    }
   ],
   "source": [
    "# Elif nem é verificado\n",
    "\n",
    "a = 2\n",
    "\n",
    "if a > 1: a += 1\n",
    "\n",
    "elif a > 2: a += 1\n",
    "\n",
    "print(a)"
   ]
  },
  {
   "cell_type": "markdown",
   "id": "8f915c91",
   "metadata": {},
   "source": [
    "‎ \n",
    "\n",
    "___\n",
    "\n",
    "‎ \n",
    "\n",
    "> # 3. Veracidade - Truthy & Falsy\n",
    "\n",
    "No python temos os de conceitos Truthy e Falsy como alternativas para o `True` e `False` que funcionam com operadores lógicos e com o `if` e `while`. O python pode obter uma noção do que é verdadeiro ou falso de qualquer objeto, **não apenas de booleanos**.\n",
    "\n",
    "- Falsy : \n",
    "\n",
    "    - `None`\n",
    "\n",
    "    - `False`\n",
    "\n",
    "    - `0`, `0.0`, `0j` \n",
    "\n",
    "    - `\"\"`, `''`, `[]`, `()`, `set()`, `{}`, `range(0)`\n",
    "\n",
    "‎ \n",
    "\n",
    "- Truthy : O resto.\n"
   ]
  },
  {
   "cell_type": "code",
   "execution_count": 50,
   "id": "d7ce4756",
   "metadata": {},
   "outputs": [
    {
     "name": "stdout",
     "output_type": "stream",
     "text": [
      "Passou\n"
     ]
    }
   ],
   "source": [
    "if not None : \n",
    "    \n",
    "    print(\"Passou\")"
   ]
  },
  {
   "cell_type": "code",
   "execution_count": 55,
   "id": "9fd165df",
   "metadata": {},
   "outputs": [
    {
     "name": "stdout",
     "output_type": "stream",
     "text": [
      "Não passou\n"
     ]
    }
   ],
   "source": [
    "if 0 : \n",
    "    \n",
    "    print(\"Passou\")\n",
    "    \n",
    "else : \n",
    "    \n",
    "    print(\"Não passou\")"
   ]
  },
  {
   "cell_type": "code",
   "execution_count": 57,
   "id": "afc5801a",
   "metadata": {},
   "outputs": [
    {
     "name": "stdout",
     "output_type": "stream",
     "text": [
      "Oi\n"
     ]
    }
   ],
   "source": [
    "if \"Gabriel\" : \n",
    "    \n",
    "    print(\"Oi\")"
   ]
  },
  {
   "cell_type": "code",
   "execution_count": 59,
   "id": "5d229bf6",
   "metadata": {},
   "outputs": [
    {
     "name": "stdout",
     "output_type": "stream",
     "text": [
      "1\n",
      "2\n",
      "3\n"
     ]
    }
   ],
   "source": [
    "# Como funiona o and? \n",
    "\n",
    "'''\n",
    "x and y \n",
    "\n",
    "Avalie o primeiro valor (x). Se ele for Falsy, a expressão inteira já é falsa, então retorne x e pare. Se x for Truthy, a decisão final depende do segundo valor (y), então retorne y.\"\n",
    "'''\n",
    " \n",
    "print(1 and 1)\n",
    "print(2 and 2)\n",
    "print(3 and 3)"
   ]
  },
  {
   "cell_type": "code",
   "execution_count": 61,
   "id": "c1538e2a",
   "metadata": {},
   "outputs": [
    {
     "name": "stdout",
     "output_type": "stream",
     "text": [
      "None\n",
      "{1, 2, 3}\n"
     ]
    }
   ],
   "source": [
    "print(None and [1])\n",
    "\n",
    "print([1] and {1, 2, 3})"
   ]
  },
  {
   "cell_type": "markdown",
   "id": "45eb7d58",
   "metadata": {},
   "source": [
    "‎ \n",
    "\n",
    "___\n",
    "\n",
    "‎ \n",
    "\n",
    "> # 4. Operador Ternário\n",
    "\n",
    "O operador ternário funciona como um bloco `if`-`else` de uma linha. \n",
    "\n",
    "```python\n",
    "\n",
    "<objeto> if <condição> else <objeto>\n",
    "\n",
    "```"
   ]
  },
  {
   "cell_type": "code",
   "execution_count": null,
   "id": "4183a62c",
   "metadata": {},
   "outputs": [
    {
     "name": "stdout",
     "output_type": "stream",
     "text": [
      "Random int : 8\n",
      "X: B\n"
     ]
    }
   ],
   "source": [
    "import random\n",
    "\n",
    "x = \"A\" if (random_number := random.randint(0, 10)) < 5 else \"B\"\n",
    "\n",
    "print(f\"Random int : {random_number}\\nX: {x}\")"
   ]
  },
  {
   "cell_type": "code",
   "execution_count": null,
   "id": "3f7a5320",
   "metadata": {},
   "outputs": [
    {
     "name": "stdout",
     "output_type": "stream",
     "text": [
      "Nota: 36 ou D\n"
     ]
    }
   ],
   "source": [
    "nota = \"A\" if (rand_nota := random.randint(0, 100)) >= 90 else \"B\" if rand_nota >= 80 else \"C\" if rand_nota >= 70 else \"D\"\n",
    "\n",
    "print(f\"Nota: {rand_nota} ou {nota}\")"
   ]
  },
  {
   "cell_type": "markdown",
   "id": "d9ab2d58",
   "metadata": {},
   "source": [
    "‎ \n",
    "\n",
    "___\n",
    "\n",
    "‎ \n",
    "\n",
    "> # 5. Match Case\n",
    "\n",
    "O Match Case introduzido no python `3.10` é uma alternativa para não utilizar muitos `if` e `elif`s no código. Ele funciona comparando uma expressão com diferentes valores.\n",
    "\n",
    "```python\n",
    "\n",
    "match expressão :\n",
    "\n",
    "    case 1:\n",
    "\n",
    "        <código>\n",
    "\n",
    "    case n:\n",
    "\n",
    "        <código>\n",
    "\n",
    "```"
   ]
  },
  {
   "cell_type": "code",
   "execution_count": 88,
   "id": "23585164",
   "metadata": {},
   "outputs": [
    {
     "name": "stdout",
     "output_type": "stream",
     "text": [
      "A\n"
     ]
    }
   ],
   "source": [
    "n = 1\n",
    "\n",
    "match n:\n",
    "    case 1:\n",
    "        print(\"A\")\n",
    "\n",
    "    case 2:\n",
    "        print(\"B\")"
   ]
  },
  {
   "cell_type": "code",
   "execution_count": 79,
   "id": "35cbd210",
   "metadata": {},
   "outputs": [
    {
     "name": "stdout",
     "output_type": "stream",
     "text": [
      "O mes 12 é Dezembro\n"
     ]
    }
   ],
   "source": [
    "from random import randint\n",
    "\n",
    "mes_numero = randint(0, 13)\n",
    "\n",
    "match mes_numero:\n",
    "    case 1:\n",
    "        mes_nome = \"Janeiro\"\n",
    "    case 2:\n",
    "        mes_nome = \"Fevereiro\"\n",
    "    case 3:\n",
    "        mes_nome = \"Março\"\n",
    "    case 4:\n",
    "        mes_nome = \"Abril\"\n",
    "    case 5:\n",
    "        mes_nome = \"Maio\"\n",
    "    case 6:\n",
    "        mes_nome = \"Junho\"\n",
    "    case 7:\n",
    "        mes_nome = \"Julho\"\n",
    "    case 8:\n",
    "        mes_nome = \"Agosto\"\n",
    "    case 9:\n",
    "        mes_nome = \"Setembro\"\n",
    "    case 10:\n",
    "        mes_nome = \"Outubro\"\n",
    "    case 11:\n",
    "        mes_nome = \"Novembro\"\n",
    "    case 12:\n",
    "        mes_nome = \"Dezembro\"\n",
    "    case _:\n",
    "        mes_nome = \"\\b\\bnão existe\"\n",
    "\n",
    "print(f\"O mes {mes_numero} é {mes_nome}\")"
   ]
  },
  {
   "cell_type": "code",
   "execution_count": 87,
   "id": "bee52d8e",
   "metadata": {},
   "outputs": [
    {
     "name": "stdout",
     "output_type": "stream",
     "text": [
      "O mes Maio tem 31 dias.\n"
     ]
    }
   ],
   "source": [
    "# Para o match-case, | (bitwise operator) funciona como or\n",
    "\n",
    "mes_atual = \"Maio\"\n",
    "\n",
    "match mes_atual.lower():\n",
    "\n",
    "    case \"janeiro\" | \"março\" | \"maio\" | \"julho\" | \"agosto\" | \"outubro\" | \"dezembro\":\n",
    "        dias_no_mes = 31\n",
    "\n",
    "    case \"abril\" | \"junho\" | \"setembro\" | \"novembro\":\n",
    "        dias_no_mes = 30\n",
    "\n",
    "    case \"fevereiro\":\n",
    "        dias_no_mes = \"29\"\n",
    "\n",
    "    case _:\n",
    "        dias_no_mes = None\n",
    "\n",
    "print(f\"O mes {mes_atual} tem {dias_no_mes} dias.\" if dias_no_mes else \"Isso nem é mes\")"
   ]
  },
  {
   "cell_type": "code",
   "execution_count": 92,
   "id": "786361e0",
   "metadata": {},
   "outputs": [
    {
     "name": "stdout",
     "output_type": "stream",
     "text": [
      "Comando desconhecido: ----\n"
     ]
    }
   ],
   "source": [
    "# Para o match-case, podemos atribuir uma variavel no case\n",
    "\n",
    "\n",
    "n = \"----\"\n",
    "\n",
    "match n:\n",
    "    case 1:\n",
    "        print(\"A\")\n",
    "\n",
    "    case 2:\n",
    "        print(\"B\")\n",
    "        \n",
    "    case x: \n",
    "        \n",
    "        print(f\"Comando desconhecido: {x}\")\n"
   ]
  },
  {
   "cell_type": "code",
   "execution_count": 95,
   "id": "861d3428",
   "metadata": {},
   "outputs": [
    {
     "name": "stdout",
     "output_type": "stream",
     "text": [
      "É uma frase\n"
     ]
    }
   ],
   "source": [
    "# Tambem podemos filtrar por classe: \n",
    "\n",
    "n = \"1\"\n",
    "\n",
    "match n:\n",
    "    case int(n) :\n",
    "        \n",
    "        print(f\"{n} é um inteiro\")\n",
    "        \n",
    "    case str() :\n",
    "        \n",
    "        print(f\"É uma frase\")\n",
    "\n",
    "    case n :\n",
    "        print(f\"{n} não é um inteiro ou frase\")"
   ]
  },
  {
   "cell_type": "code",
   "execution_count": null,
   "id": "d7209000",
   "metadata": {},
   "outputs": [],
   "source": []
  },
  {
   "cell_type": "code",
   "execution_count": null,
   "id": "b1e0d488",
   "metadata": {},
   "outputs": [],
   "source": []
  }
 ],
 "metadata": {
  "kernelspec": {
   "display_name": "base",
   "language": "python",
   "name": "python3"
  },
  "language_info": {
   "codemirror_mode": {
    "name": "ipython",
    "version": 3
   },
   "file_extension": ".py",
   "mimetype": "text/x-python",
   "name": "python",
   "nbconvert_exporter": "python",
   "pygments_lexer": "ipython3",
   "version": "3.11.4"
  }
 },
 "nbformat": 4,
 "nbformat_minor": 5
}
