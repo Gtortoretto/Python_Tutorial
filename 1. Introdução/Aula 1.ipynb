{
 "cells": [
  {
   "cell_type": "markdown",
   "id": "b0353142",
   "metadata": {},
   "source": [
    "> # 1. Print\n",
    "\n",
    "`print()` : $\\mathbb{R} \\rightarrow $ `None`\n",
    "\n",
    "---"
   ]
  },
  {
   "cell_type": "code",
   "execution_count": null,
   "id": "ef16d690",
   "metadata": {},
   "outputs": [
    {
     "name": "stdout",
     "output_type": "stream",
     "text": [
      "2\n"
     ]
    }
   ],
   "source": [
    "print(1 + 1)"
   ]
  },
  {
   "cell_type": "code",
   "execution_count": 2,
   "id": "f4b4417b",
   "metadata": {},
   "outputs": [
    {
     "name": "stdout",
     "output_type": "stream",
     "text": [
      "1 + 1 = 2\n"
     ]
    }
   ],
   "source": [
    "print(\"1 + 1 = 2\")"
   ]
  },
  {
   "cell_type": "code",
   "execution_count": 4,
   "id": "e4f567aa",
   "metadata": {},
   "outputs": [
    {
     "name": "stdout",
     "output_type": "stream",
     "text": [
      "[1, 2, 3]\n"
     ]
    }
   ],
   "source": [
    "print([1, 2, 3])"
   ]
  },
  {
   "cell_type": "code",
   "execution_count": null,
   "id": "7c549a5f",
   "metadata": {},
   "outputs": [
    {
     "name": "stdout",
     "output_type": "stream",
     "text": [
      "{'1': 1, 'oi': 4}\n"
     ]
    }
   ],
   "source": [
    "print({\"1\" : 1, \"oi\" : 4})"
   ]
  },
  {
   "cell_type": "markdown",
   "id": "6ec16599",
   "metadata": {},
   "source": [
    "___\n",
    "## 1.1 Parâmetros  \n",
    "\n",
    "```python\n",
    "print(*objects, sep=' ', end='\\n', file=sys.stdout, flush=False)\n",
    "```\n",
    "\n",
    "- `*objects` : Número variável de argumentos posicionais a serem exibidos.\n",
    "\n",
    "- `sep = ' '` : Define a `string` que será inserida entre cada objeto passado para a função.\n",
    "\n",
    "- `end = '\\n'` : Define a `string` que será anexada ao final da saída.\n",
    "\n",
    "- `file = sys.stdout` : Define o output da função, pode ser colocado em qualquer objeto com o método `write()`\n",
    "\n",
    "- `flush = False` :  Força o esvaziamento imediato do buffer.\n"
   ]
  },
  {
   "cell_type": "code",
   "execution_count": 8,
   "id": "a993758e",
   "metadata": {},
   "outputs": [
    {
     "name": "stdout",
     "output_type": "stream",
     "text": [
      "1 2 3 quatro None [1, 2, 3]\n"
     ]
    }
   ],
   "source": [
    "print(1, 2, 3, \"quatro\", None, [1, 2, 3])"
   ]
  },
  {
   "cell_type": "code",
   "execution_count": 14,
   "id": "456ff777",
   "metadata": {},
   "outputs": [
    {
     "name": "stdout",
     "output_type": "stream",
     "text": [
      "a b c\n",
      "a---b---c\n",
      "a\tb\tc\n",
      "abc\n"
     ]
    }
   ],
   "source": [
    "print(\"a\", \"b\", \"c\")\n",
    "\n",
    "print(\"a\", \"b\", \"c\", sep = \"---\")\n",
    "\n",
    "print(\"a\", \"b\", \"c\", sep = \"\\t\")\n",
    "\n",
    "print(\"a\", \"b\", \"c\", sep = \"\")\n"
   ]
  },
  {
   "cell_type": "code",
   "execution_count": 17,
   "id": "3ceb5c98",
   "metadata": {},
   "outputs": [
    {
     "name": "stdout",
     "output_type": "stream",
     "text": [
      "Linha 1\n",
      "Linha 2\n",
      "Linha 3 Linha 3 - Continuação\n"
     ]
    }
   ],
   "source": [
    "print(\"Linha 1\")\n",
    "print(\"Linha 2\")\n",
    "\n",
    "\n",
    "print(\"Linha 3\", end = \" \")\n",
    "print(\"Linha 3 - Continuação\")"
   ]
  },
  {
   "cell_type": "code",
   "execution_count": 120,
   "id": "4cd2d2c6",
   "metadata": {},
   "outputs": [
    {
     "name": "stdout",
     "output_type": "stream",
     "text": [
      "Print normal - sys.stdout (standard output)\n"
     ]
    }
   ],
   "source": [
    "import sys\n",
    "\n",
    "print(\"Print normal - sys.stdout (standard output)\")\n",
    "\n",
    "with open(r\"1. Introdução\\texto.txt\", \"w\") as f:\n",
    "    \n",
    "    print(\"Print em um arquivo\", file=f)\n",
    "    "
   ]
  },
  {
   "cell_type": "code",
   "execution_count": 123,
   "id": "0378f779",
   "metadata": {},
   "outputs": [
    {
     "name": "stdout",
     "output_type": "stream",
     "text": [
      "Barra de progresso:----------"
     ]
    }
   ],
   "source": [
    "import time\n",
    "\n",
    "print(\"Barra de progresso:\", end=\"\")\n",
    "\n",
    "for i in range(10):\n",
    "    \n",
    "    print(\"-\", end=\"\", flush=True)\n",
    "    time.sleep(0.5)\n"
   ]
  },
  {
   "cell_type": "markdown",
   "id": "0e255d59",
   "metadata": {},
   "source": [
    "___\n",
    "\n",
    "## 1.2 Formatação de Strings\n",
    "\n",
    "1. **F-Strings** : \n",
    "\n",
    "    ```python \n",
    "    print(f\"str {var_1:m} str {var_2}\")\n",
    "    ```\n",
    "\n",
    "2. **str.format()** :\n",
    "\n",
    "    ```python \n",
    "    print(\"str {} str {}\".format(var_1, var_2))\n",
    "    ```\n",
    "\n",
    "3. **%** : \n",
    "\n",
    "    ```python \n",
    "    print(\"str %s str %d\" % (var_1, var_2))\n",
    "    ```\n",
    "\n",
    "3. **+** : \n",
    "\n",
    "    ```python \n",
    "    print(\"str\" + var_1 + \"str\")\n",
    "    ```"
   ]
  },
  {
   "cell_type": "code",
   "execution_count": 127,
   "id": "e62948ab",
   "metadata": {},
   "outputs": [
    {
     "name": "stdout",
     "output_type": "stream",
     "text": [
      "O meu nome é Carlos e tenho 31 anos.\n"
     ]
    }
   ],
   "source": [
    "nome = \"Carlos\"\n",
    "idade = 31\n",
    "\n",
    "print(f\"O meu nome é {nome} e tenho {idade} anos.\")"
   ]
  },
  {
   "cell_type": "code",
   "execution_count": null,
   "id": "446c0026",
   "metadata": {},
   "outputs": [
    {
     "name": "stdout",
     "output_type": "stream",
     "text": [
      "O total de dias foi 1000\n"
     ]
    }
   ],
   "source": [
    "meses = \"oi\"\n",
    "dias = meses * 10\n",
    "\n",
    "print(f\"O total de dias foi {meses}\")"
   ]
  },
  {
   "cell_type": "markdown",
   "id": "3f952a02",
   "metadata": {},
   "source": [
    "### F-String\n",
    "\n",
    "Especificadores: \n",
    "\n",
    "```python\n",
    "print(f\"{var:especificador}\")\n",
    "```\n",
    "\n",
    "`:[[fill]align][sign][#][0][width][,][.precision][type]`\n",
    "\n",
    "- `fill` : Caractere que será usado para preencher o espaço extra. Se omitido, o padrão é um espaço em branco.\n",
    "\n",
    "- `align` : Define a posição do texto \n",
    "\n",
    "    - `>` : Alinha o conteúdo à direita\n",
    "    - `<` : Alinha o conteúdo à esquerda\n",
    "    - `^` : Centraliza o conteúdo\n",
    "    - `=` : Coloca o sinal (+ ou -) na posição mais à esquerda\n",
    "\n",
    "- `sign` : Define como os sinais de positivo e negativo são exibidos.\n",
    "\n",
    "- `#` : Adiciona prefixos **informativos** para diferentes bases numéricas.\n",
    "\n",
    "    - `b` : Binário\n",
    "    - `o` : Octal\n",
    "    - `x` : Hexadecimal\n",
    "\n",
    "- `0` : Preenchimento com 0. \n",
    "\n",
    "- `width` : Um número inteiro que define a largura total mínima do campo. Se o conteúdo for menor, será preenchido conforme o alinhamento.\n",
    "\n",
    "- `,` : Separador de milhares\n",
    "\n",
    "- `.precision` : Precisão Numérica e de Texto\n",
    "\n",
    "    - `f` : Floating point number, define o número de dígitos após o ponto decimal.\n",
    "    \n",
    "    - `e` : Exponencial, define o número de dígitos após o ponto decimal.\n",
    "\n",
    "    - `s` : Strings, define o número máximo de caracteres a serem exibidos (trunca a string).\n",
    "\n",
    "- `type` : Tipo a ser convertido\n",
    "\n",
    "    - `f`, `e`, `s`, `b`, `o`, `x`, `%`, `c`."
   ]
  },
  {
   "cell_type": "code",
   "execution_count": 78,
   "id": "684fcd04",
   "metadata": {},
   "outputs": [
    {
     "name": "stdout",
     "output_type": "stream",
     "text": [
      "a.........\n",
      "a---------\n",
      "a+++++++++\n",
      "---------------------\n",
      ".........a\n",
      "---------a\n",
      "+++++++++a\n",
      "---------------------\n",
      "    a     \n",
      "'    a     '\n",
      "abc    a     def\n",
      "---------------------\n",
      "'         1'\n",
      "'-        1'\n",
      "'-........1'\n"
     ]
    }
   ],
   "source": [
    "texto = \"a\"\n",
    "\n",
    "print(f\"{texto:.<10}\")\n",
    "print(f\"{texto:-<10}\")\n",
    "print(f\"{texto:+<10}\")\n",
    "print(f\"---------------------\")\n",
    "print(f\"{texto:.>10}\")\n",
    "print(f\"{texto:->10}\")\n",
    "print(f\"{texto:+>10}\")\n",
    "print(f\"---------------------\")\n",
    "print(f\"{texto:^10}\")\n",
    "print(f\"'{texto:^10}'\")\n",
    "print(f\"abc{texto:^10}def\")\n",
    "print(f\"---------------------\")\n",
    "print(f\"'{+1:=10}'\")\n",
    "print(f\"'{-1:=10}'\")\n",
    "print(f\"'{-1:.=10}'\")"
   ]
  },
  {
   "cell_type": "code",
   "execution_count": null,
   "id": "6f082da8",
   "metadata": {},
   "outputs": [
    {
     "name": "stdout",
     "output_type": "stream",
     "text": [
      "Padrão: 150 e -150\n",
      "- (padrão): 150 e -150\n",
      "+ : +150 e -150\n"
     ]
    }
   ],
   "source": [
    "num_pos = 150\n",
    "num_neg = -150\n",
    "\n",
    "print(f\"Padrão: {num_pos} e {num_neg}\")\n",
    "print(f\"- (padrão): {num_pos:-} e {num_neg:-}\")\n",
    "print(f\"+ : {num_pos:+} e {num_neg:+}\")"
   ]
  },
  {
   "cell_type": "code",
   "execution_count": 87,
   "id": "dd0cd3ea",
   "metadata": {},
   "outputs": [
    {
     "name": "stdout",
     "output_type": "stream",
     "text": [
      "Hexadecimal normal: ff\n",
      "Hexadecimal usando o #: 0xff\n",
      "Número com 8 dígitos (0): 00000255\n"
     ]
    }
   ],
   "source": [
    "numero = 255\n",
    "\n",
    "print(f\"Hexadecimal normal: {numero:x}\")\n",
    "print(f\"Hexadecimal usando o #: {numero:#x}\")\n",
    "\n",
    "print(f\"Número com 8 dígitos (0): {numero:08}\")"
   ]
  },
  {
   "cell_type": "code",
   "execution_count": 89,
   "id": "b9022c9d",
   "metadata": {},
   "outputs": [
    {
     "name": "stdout",
     "output_type": "stream",
     "text": [
      "'       1234567890.32'\n",
      "'1,234,567,890.32'\n",
      "'    1,234,567,890.32'\n"
     ]
    }
   ],
   "source": [
    "numero_grande = 1234567890.32\n",
    "\n",
    "print(f\"'{numero_grande:20}'\")\n",
    "\n",
    "print(f\"'{numero_grande:,}'\")\n",
    "\n",
    "print(f\"'{numero_grande:20,}'\")"
   ]
  },
  {
   "cell_type": "code",
   "execution_count": 99,
   "id": "1da451c8",
   "metadata": {},
   "outputs": [
    {
     "name": "stdout",
     "output_type": "stream",
     "text": [
      "Pi: 3.142\n",
      "Pi^Pi: 3.646e+01\n",
      "Frase truncada: Lorem ipsu\n"
     ]
    }
   ],
   "source": [
    "from math import pi\n",
    "\n",
    "print(f\"Pi: {pi:.3f}\")\n",
    "\n",
    "print(f\"Pi^Pi: {pi**pi:.3e}\")\n",
    "\n",
    "frase = \"Lorem ipsum dolor sit amet, consectetur adipiscing elit. In at fringilla lectus\"\n",
    "\n",
    "print(f\"Frase truncada: {frase:.10s}\")"
   ]
  },
  {
   "cell_type": "markdown",
   "id": "9284f5ec",
   "metadata": {},
   "source": [
    "___\n",
    "\n",
    "> # Parei Aqui!!!\n",
    "___\n",
    "\n",
    "## 1.3 Escape Characters\n",
    "\n",
    "- `\\n` : Newline - Insere uma quebra de linha\n",
    "\n",
    "- `\\t` : Tab - Insere uma tabulação horizontal\n",
    "\n",
    "- `\\\\` , `\\'` e `\\\"` : Insere o caractere \\, ' e \".\n",
    "\n",
    "- `\\b` : Backspace - Move o cursor um caractere para trás\n",
    "\n",
    "- `\\r` : Carriage Return - Move o cursor para o início da linha atual\n",
    "\n",
    "- `\\v` : Vertical Tab - Insere uma tabulação vertical\n",
    "\n",
    "Além disso, utilizar um `r` ou `R` antes de uma `str` impede que os caracteres de escape sejam interpretados. \n",
    "\n"
   ]
  },
  {
   "cell_type": "code",
   "execution_count": 34,
   "id": "956e5c6e",
   "metadata": {},
   "outputs": [
    {
     "name": "stdout",
     "output_type": "stream",
     "text": [
      "Oi\n",
      "Oi dnv\n"
     ]
    }
   ],
   "source": [
    "print(\"Oi\\nOi dnv\")"
   ]
  },
  {
   "cell_type": "code",
   "execution_count": 36,
   "id": "2afd8f4b",
   "metadata": {},
   "outputs": [
    {
     "name": "stdout",
     "output_type": "stream",
     "text": [
      "a\tb\tc\n",
      "a\tb\tc\n"
     ]
    }
   ],
   "source": [
    "print(\"a\\tb\\tc\")\n",
    "\n",
    "print(\"a\", \"b\", \"c\", sep = \"\\t\")"
   ]
  },
  {
   "cell_type": "code",
   "execution_count": 39,
   "id": "194c4f97",
   "metadata": {},
   "outputs": [
    {
     "name": "stdout",
     "output_type": "stream",
     "text": [
      "Localização desse arquivo : 1. Introdução\\1.ipynb\n",
      "Localização desse arquivo : 1. Introdução\\1.ipynb\n",
      "Localização desse arquivo : 1. Introdução\u0001.ipynb\n"
     ]
    }
   ],
   "source": [
    "print(\"Localização desse arquivo :\", \"1. Introdução\\\\1.ipynb\")\n",
    "print(\"Localização desse arquivo :\", r\"1. Introdução\\1.ipynb\")\n",
    "print(\"Localização desse arquivo :\", \"1. Introdução\\1.ipynb\")"
   ]
  },
  {
   "cell_type": "code",
   "execution_count": 42,
   "id": "fc52a388",
   "metadata": {},
   "outputs": [
    {
     "name": "stdout",
     "output_type": "stream",
     "text": [
      "abpo\n",
      "\n",
      "a\n"
     ]
    }
   ],
   "source": [
    "print(\"abc\\bpo\")\n",
    "print(\"a\\b\")\n",
    "print(\"ab\\b\")"
   ]
  },
  {
   "cell_type": "code",
   "execution_count": 45,
   "id": "22794010",
   "metadata": {},
   "outputs": [
    {
     "name": "stdout",
     "output_type": "stream",
     "text": [
      "ABC45\n",
      "234\n",
      "223456\n"
     ]
    }
   ],
   "source": [
    "print(\"12345\\rABC\")\n",
    "\n",
    "print(\"1\\r234\")\n",
    "\n",
    "print(\"123456\\r2\")"
   ]
  },
  {
   "cell_type": "markdown",
   "id": "0a928f18",
   "metadata": {},
   "source": [
    "\n",
    "> # 2. Input\n",
    "\n",
    "`input()` : `str` $\\rightarrow$ `str`\n",
    "\n",
    "Todo o resultado da função input resulta em uma **string** \n",
    "\n",
    "___\n",
    "\n",
    "## 2.1 Propriedades\n",
    "```python\n",
    "\n",
    "input(prompt=None)\n",
    "\n",
    "```\n",
    "\n",
    "- `prompt` : String exibida para o usuário no terminal"
   ]
  },
  {
   "cell_type": "code",
   "execution_count": 1,
   "id": "e5e552e0",
   "metadata": {},
   "outputs": [
    {
     "data": {
      "text/plain": [
       "'oi'"
      ]
     },
     "execution_count": 1,
     "metadata": {},
     "output_type": "execute_result"
    }
   ],
   "source": [
    "input(\"qual o seu nome?\\n>\")"
   ]
  },
  {
   "cell_type": "code",
   "execution_count": 101,
   "id": "c0012151",
   "metadata": {},
   "outputs": [
    {
     "data": {
      "text/plain": [
       "str"
      ]
     },
     "execution_count": 101,
     "metadata": {},
     "output_type": "execute_result"
    }
   ],
   "source": [
    "type(input())"
   ]
  },
  {
   "cell_type": "code",
   "execution_count": null,
   "id": "41beedcf",
   "metadata": {},
   "outputs": [],
   "source": []
  },
  {
   "cell_type": "markdown",
   "id": "3146b1b0",
   "metadata": {},
   "source": [
    "> # 3. Expressions & Statements\n",
    "\n",
    "\n",
    "- Expression : Um trecho de sintaxe que pode ser avaliado para produzir algum valor.\n",
    "\n",
    "- Statement: Um Statement é parte de um conjunto (um \"bloco\" de código). Ela pode ser uma expressão ou uma de várias construções com uma palavra-chave, como if, while ou for.\n",
    "\n",
    "\n",
    "Sendo assim, por definição, **todos os são Expression são Statements**, mas o contrário nem sempre é verdadeiro. "
   ]
  },
  {
   "cell_type": "code",
   "execution_count": 14,
   "id": "53562a02",
   "metadata": {},
   "outputs": [
    {
     "data": {
      "text/plain": [
       "5"
      ]
     },
     "execution_count": 14,
     "metadata": {},
     "output_type": "execute_result"
    }
   ],
   "source": [
    "5"
   ]
  },
  {
   "cell_type": "code",
   "execution_count": 2,
   "id": "403fde27",
   "metadata": {},
   "outputs": [
    {
     "name": "stdout",
     "output_type": "stream",
     "text": [
      "10\n"
     ]
    }
   ],
   "source": [
    "print(5 + 5)"
   ]
  },
  {
   "cell_type": "code",
   "execution_count": 16,
   "id": "426b6e76",
   "metadata": {},
   "outputs": [],
   "source": [
    "x = 5"
   ]
  },
  {
   "cell_type": "code",
   "execution_count": 17,
   "id": "6b194f99",
   "metadata": {},
   "outputs": [
    {
     "name": "stdout",
     "output_type": "stream",
     "text": [
      "5\n"
     ]
    }
   ],
   "source": [
    "print(x)"
   ]
  },
  {
   "cell_type": "code",
   "execution_count": 18,
   "id": "46ff7926",
   "metadata": {},
   "outputs": [],
   "source": [
    "import math"
   ]
  },
  {
   "cell_type": "code",
   "execution_count": 20,
   "id": "265168e7",
   "metadata": {},
   "outputs": [
    {
     "name": "stdout",
     "output_type": "stream",
     "text": [
      "25\n"
     ]
    }
   ],
   "source": [
    "x = 5 * 5\n",
    "\n",
    "print(x)"
   ]
  },
  {
   "cell_type": "markdown",
   "id": "b2e834c2",
   "metadata": {},
   "source": [
    "> # 4. Variables\n",
    "\n",
    "As variáveis são as responsáveis por armazenar qualquer tipo de informação na memória.\n",
    "```python\n",
    "var_name = var\n",
    "```\n",
    "```python\n",
    "var_name = Expressão\n",
    "```\n",
    "Ela é composta pelo **variable name** e o **content**. \n",
    "\n",
    "- **variable name** : Apenas podem conter letras, números e underscores e não podem começar com um número.\n",
    "\n",
    "    - Os nomes das variáveis são case-sensitive : `var` $\\neq$ `Var`\n",
    "\n",
    "- **content** : O python determina de maneira automática o tipo da variável. "
   ]
  },
  {
   "cell_type": "code",
   "execution_count": 102,
   "id": "20dc8138",
   "metadata": {},
   "outputs": [
    {
     "name": "stdout",
     "output_type": "stream",
     "text": [
      "Antes: x = 10, y = 'python'\n"
     ]
    }
   ],
   "source": [
    "x = 10\n",
    "y = \"python\"\n",
    "\n",
    "print(f\"Antes: x = {x}, y = '{y}'\")"
   ]
  },
  {
   "cell_type": "code",
   "execution_count": null,
   "id": "b125ead5",
   "metadata": {},
   "outputs": [
    {
     "name": "stdout",
     "output_type": "stream",
     "text": [
      "x = oi, y = 2\n"
     ]
    }
   ],
   "source": [
    "x, y, z = \"oi\", \"2\", 1\n",
    "\n",
    "print(f\"x = {x}, y = {y}\")"
   ]
  },
  {
   "cell_type": "code",
   "execution_count": 5,
   "id": "33ba11fc",
   "metadata": {},
   "outputs": [
    {
     "name": "stdout",
     "output_type": "stream",
     "text": [
      "10\n",
      "mudei o x\n"
     ]
    }
   ],
   "source": [
    "x = 10 \n",
    "\n",
    "print(x)\n",
    "\n",
    "x = 'mudei o x'\n",
    "\n",
    "print(x)"
   ]
  },
  {
   "cell_type": "code",
   "execution_count": 3,
   "id": "6d60c171",
   "metadata": {},
   "outputs": [
    {
     "name": "stdout",
     "output_type": "stream",
     "text": [
      "x : 1\ty: 1\tz: 1\n",
      "x : 1\ty: 2\tz: 3\n"
     ]
    }
   ],
   "source": [
    "x = y = z = 1\n",
    "\n",
    "print(f\"x : {x}\\ty: {y}\\tz: {z}\")\n",
    "\n",
    "y = 2\n",
    "z = 3\n",
    "\n",
    "print(f\"x : {x}\\ty: {y}\\tz: {z}\")"
   ]
  },
  {
   "cell_type": "code",
   "execution_count": 6,
   "id": "d2b052b4",
   "metadata": {},
   "outputs": [
    {
     "name": "stdout",
     "output_type": "stream",
     "text": [
      "x: 12\ty: 12\n",
      "x: 12\ty: 10\n"
     ]
    }
   ],
   "source": [
    "y = input()\n",
    "\n",
    "x = y\n",
    "\n",
    "print(f\"x: {x}\\ty: {y}\")\n",
    "\n",
    "y = 10\n",
    "\n",
    "print(f\"x: {x}\\ty: {y}\")"
   ]
  },
  {
   "cell_type": "markdown",
   "id": "b240f3a0",
   "metadata": {},
   "source": [
    "___\n",
    "\n",
    "## 4.1 Global and Local Variables\n",
    "\n",
    "Varáveis criadas fora de uma função são por definição variáveis globais, que podem ser utilizadas em todo o código.\n",
    "\n",
    "Quando crio uma variável dentro de uma função, ela passa a ser uma variável local que não pode ser referenciada no código fora da função."
   ]
  },
  {
   "cell_type": "code",
   "execution_count": 6,
   "id": "a13998c6",
   "metadata": {},
   "outputs": [],
   "source": [
    "x = 10"
   ]
  },
  {
   "cell_type": "code",
   "execution_count": 7,
   "id": "9e7cd01e",
   "metadata": {},
   "outputs": [
    {
     "name": "stdout",
     "output_type": "stream",
     "text": [
      "10\n"
     ]
    }
   ],
   "source": [
    "print(x)"
   ]
  },
  {
   "cell_type": "code",
   "execution_count": 13,
   "id": "c3aabe0d",
   "metadata": {},
   "outputs": [
    {
     "ename": "NameError",
     "evalue": "name 'var_local' is not defined",
     "output_type": "error",
     "traceback": [
      "\u001b[1;31m---------------------------------------------------------------------------\u001b[0m",
      "\u001b[1;31mNameError\u001b[0m                                 Traceback (most recent call last)",
      "Cell \u001b[1;32mIn[13], line 7\u001b[0m\n\u001b[0;32m      3\u001b[0m     var_local \u001b[38;5;241m=\u001b[39m \u001b[38;5;241m1\u001b[39m\n\u001b[0;32m      5\u001b[0m func()\n\u001b[1;32m----> 7\u001b[0m \u001b[38;5;28mprint\u001b[39m(\u001b[43mvar_local\u001b[49m)\n",
      "\u001b[1;31mNameError\u001b[0m: name 'var_local' is not defined"
     ]
    }
   ],
   "source": [
    "def func():\n",
    "    \n",
    "    var_local = 1\n",
    "\n",
    "func()\n",
    "\n",
    "print(var_local)"
   ]
  },
  {
   "cell_type": "code",
   "execution_count": 12,
   "id": "10641a6c",
   "metadata": {},
   "outputs": [
    {
     "name": "stdout",
     "output_type": "stream",
     "text": [
      "1\n"
     ]
    }
   ],
   "source": [
    "def func():\n",
    "    \n",
    "    global var_global\n",
    "    \n",
    "    var_global = 1\n",
    "    \n",
    "func()\n",
    "\n",
    "print(var_global)  \n",
    "    "
   ]
  },
  {
   "cell_type": "markdown",
   "id": "909d3de1",
   "metadata": {},
   "source": [
    "___\n",
    "\n",
    "## 4.2 Trocando Variáveis\n",
    "\n",
    "Para trocar de variáveis existem duas possibilidades, utilizando uma **variável auxiliar** ou **tuplas**."
   ]
  },
  {
   "cell_type": "code",
   "execution_count": 7,
   "id": "d1dda05f",
   "metadata": {},
   "outputs": [
    {
     "name": "stdout",
     "output_type": "stream",
     "text": [
      "x = 1, y = 2\n"
     ]
    }
   ],
   "source": [
    "x, y = 1, 2\n",
    "\n",
    "print(f\"x = {x}, y = {y}\")"
   ]
  },
  {
   "cell_type": "code",
   "execution_count": 8,
   "id": "f9b67122",
   "metadata": {},
   "outputs": [
    {
     "name": "stdout",
     "output_type": "stream",
     "text": [
      "Depois: x = 2, y = 1\n"
     ]
    }
   ],
   "source": [
    "# Trocando nomes de variáveis utilizando variável auxiliar\n",
    "\n",
    "x, y = 1, 2\n",
    "\n",
    "aux = x\n",
    "\n",
    "x = y\n",
    "\n",
    "y = aux\n",
    "\n",
    "print(f\"Depois: x = {x}, y = {y}\")"
   ]
  },
  {
   "cell_type": "code",
   "execution_count": 9,
   "id": "3fd23c12",
   "metadata": {},
   "outputs": [
    {
     "name": "stdout",
     "output_type": "stream",
     "text": [
      "Depois: x = 2, y = 1\n"
     ]
    }
   ],
   "source": [
    "# Trocando nomes de variáveis utilizando tuplas\n",
    "\n",
    "x, y = 1, 2\n",
    "\n",
    "x, y = y, x \n",
    "\n",
    "print(f\"Depois: x = {x}, y = {y}\")"
   ]
  },
  {
   "cell_type": "markdown",
   "id": "7d9f3d00",
   "metadata": {},
   "source": [
    "___\n",
    "\n",
    "## 4.3 Assignment Expressions - Walrus Operator\n",
    "\n",
    "Um recurso introduzido no python 3.8. Permite atribuição de variáveis em `expressions` e não necessariamente apenas em `statements` como o `=` padrão.\n",
    "\n",
    "```python\n",
    "var_name := var\n",
    "```\n"
   ]
  },
  {
   "cell_type": "code",
   "execution_count": 109,
   "id": "29d3ab33",
   "metadata": {},
   "outputs": [
    {
     "ename": "SyntaxError",
     "evalue": "invalid syntax (1864755509.py, line 1)",
     "output_type": "error",
     "traceback": [
      "\u001b[1;36m  Cell \u001b[1;32mIn[109], line 1\u001b[1;36m\u001b[0m\n\u001b[1;33m    a := 10\u001b[0m\n\u001b[1;37m      ^\u001b[0m\n\u001b[1;31mSyntaxError\u001b[0m\u001b[1;31m:\u001b[0m invalid syntax\n"
     ]
    }
   ],
   "source": [
    "a := 10\n",
    "\n",
    "print(a)"
   ]
  },
  {
   "cell_type": "code",
   "execution_count": null,
   "id": "20691991",
   "metadata": {},
   "outputs": [
    {
     "name": "stdout",
     "output_type": "stream",
     "text": [
      "10\n",
      "10\n"
     ]
    }
   ],
   "source": [
    "print(a := 10)\n",
    "\n",
    "print(a)"
   ]
  }
 ],
 "metadata": {
  "kernelspec": {
   "display_name": "base",
   "language": "python",
   "name": "python3"
  },
  "language_info": {
   "codemirror_mode": {
    "name": "ipython",
    "version": 3
   },
   "file_extension": ".py",
   "mimetype": "text/x-python",
   "name": "python",
   "nbconvert_exporter": "python",
   "pygments_lexer": "ipython3",
   "version": "3.11.4"
  }
 },
 "nbformat": 4,
 "nbformat_minor": 5
}
