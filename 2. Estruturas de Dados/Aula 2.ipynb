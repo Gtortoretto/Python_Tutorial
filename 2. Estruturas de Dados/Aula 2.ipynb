{
 "cells": [
  {
   "cell_type": "markdown",
   "id": "038fe5bf",
   "metadata": {},
   "source": [
    "> # 1. DataTypes Primitivos\n",
    "\n",
    "O Python funciona como uma linguagem de tipo dinâmico, ou seja, **não é necessário declarar o tipo de uma variável ao criá-la**.\n",
    "\n",
    "Os DataTypes são representações do tipo que um dado valor pode ter. Os tipos primitivos correspondem e armazenam dados unitários, como um número ou uma afirmação verdadeiro ou falso.\n",
    "\n",
    "Tipos de dados:\n",
    "\n",
    "- `str` : String - Sequência  de texto\n",
    "\n",
    "    - É inicializada utilizando `\"\"` ou `''`\n",
    "\n",
    "- `int` : Integer - Número inteiro\n",
    "|\n",
    "    - São inicializados digitando um número não acompanhando de `.`\n",
    "\n",
    "- `float` : floating Point Number - Números reais\n",
    "\n",
    "    - São inicializados digitando um número acompanhado da sua parte decimal com `.`.\n",
    "\n",
    "- `complex` : Complex Numbers - Números Complexos\n",
    "\n",
    "    - São inicializados digitando um número real e sua parte imaginária seguida do caractere `j`\n",
    "\n",
    "- `bool` : Boolean - Representa um operados binário \n",
    "\n",
    "    - Valores verdadeiro (`True`) ou falso (`False`)\n",
    "\n",
    "- `NoneType` : Tipo nulo do python\n",
    "\n",
    "    - Possui apenas um valor : `None`\n",
    "\n",
    "Função `type()` encontra o tipo do dado. "
   ]
  },
  {
   "cell_type": "code",
   "execution_count": 2,
   "id": "0c3e86bc",
   "metadata": {},
   "outputs": [
    {
     "name": "stdout",
     "output_type": "stream",
     "text": [
      "oi 1 1.0 (1.5+5j) True None\n",
      "<class 'str'>\n",
      "<class 'int'>\n",
      "<class 'float'>\n",
      "<class 'complex'>\n",
      "<class 'bool'>\n",
      "<class 'NoneType'>\n"
     ]
    }
   ],
   "source": [
    "string_tipo = \"oi\"\n",
    "\n",
    "inteiro_tipo = 1\n",
    "\n",
    "float_tipo = 1.0\n",
    "\n",
    "complexo_tipo = 1.5 + 5j\n",
    "\n",
    "bool_tipo = True\n",
    "\n",
    "NoneType_tipo = None\n",
    "\n",
    "print(string_tipo, inteiro_tipo, float_tipo, complexo_tipo, bool_tipo, NoneType_tipo)\n",
    "\n",
    "print(type(string_tipo))\n",
    "print(type(inteiro_tipo))\n",
    "print(type(float_tipo))\n",
    "print(type(complexo_tipo))\n",
    "print(type(bool_tipo))\n",
    "print(type(NoneType_tipo))"
   ]
  },
  {
   "cell_type": "markdown",
   "id": "2fce6f32",
   "metadata": {},
   "source": [
    "‎ \n",
    "\n",
    "___\n",
    "\n",
    "‎ \n",
    "\n",
    "> ## 1.1 String\n",
    "\n",
    "Uma string é basicamente uma **sequência ordenada** e **imutável** de de caracteres. \n",
    "\n",
    "‎ \n",
    "\n",
    "- Função `str()` :\n",
    "\n",
    "    Para transformar qualquer DataType em `str` basta utilizar a função `str()`:\n",
    "    ```python\n",
    "    str(objeto)\n",
    "    ``` \n",
    "    \n",
    "‎ \n",
    "\n",
    "- Função `len()` :\n",
    "\n",
    "    Retorna o comprimento de uma sequência. \n",
    "    ```python\n",
    "    len(objeto)\n",
    "    ``` "
   ]
  },
  {
   "cell_type": "code",
   "execution_count": 7,
   "id": "579400e3",
   "metadata": {},
   "outputs": [
    {
     "name": "stdout",
     "output_type": "stream",
     "text": [
      "Isso é uma string\n",
      "\n",
      "<class 'str'>\n"
     ]
    }
   ],
   "source": [
    "x = \"Isso é uma string\"\n",
    "\n",
    "print(f\"{x}\", end = \"\\n\\n\")\n",
    "print(type(x))"
   ]
  },
  {
   "cell_type": "code",
   "execution_count": 2,
   "id": "e62d9051",
   "metadata": {},
   "outputs": [
    {
     "name": "stdout",
     "output_type": "stream",
     "text": [
      "HelloWorld\n",
      "Hello World\n"
     ]
    }
   ],
   "source": [
    "a = \"Hello\"\n",
    "b = \"World\"\n",
    "\n",
    "c = a + b\n",
    "d = a + \" \" + b\n",
    "\n",
    "print(c)\n",
    "print(d)"
   ]
  },
  {
   "cell_type": "code",
   "execution_count": 54,
   "id": "5c3d8110",
   "metadata": {},
   "outputs": [
    {
     "name": "stdout",
     "output_type": "stream",
     "text": [
      "Eu tenho 18 de idade\n"
     ]
    }
   ],
   "source": [
    "idade = 18\n",
    "\n",
    "print(\"Eu tenho \" + str(idade) + \" de idade\")"
   ]
  },
  {
   "cell_type": "code",
   "execution_count": 10,
   "id": "fab307d5",
   "metadata": {},
   "outputs": [
    {
     "name": "stdout",
     "output_type": "stream",
     "text": [
      "10\n",
      "Antes: <class 'int'>\n",
      "10\n",
      "Depois: <class 'str'>\n"
     ]
    }
   ],
   "source": [
    "x = 10\n",
    "\n",
    "print(f\"{x}\")\n",
    "print(f'Antes: {type(x)}')\n",
    "\n",
    "x = str(x)\n",
    "\n",
    "print(f\"{x}\")\n",
    "print(f'Depois: {type(x)}')"
   ]
  },
  {
   "cell_type": "code",
   "execution_count": 11,
   "id": "0c7be6fe",
   "metadata": {},
   "outputs": [
    {
     "name": "stdout",
     "output_type": "stream",
     "text": [
      "506\n"
     ]
    }
   ],
   "source": [
    "x = \"Lorem ipsum dolor sit amet, consectetur adipiscing elit. Curabitur bibendum sollicitudin porttitor. Lorem ipsum dolor sit amet, consectetur adipiscing elit. Sed at vehicula ipsum, ac venenatis justo. Sed ut fermentum diam, at congue neque. Morbi pharetra eu nisi id pulvinar. Praesent vel mattis nunc. Duis imperdiet purus est, in dignissim nulla semper id. Morbi congue tellus est. In varius in tellus et egestas. Morbi ultrices nisl at dignissim interdum. Vestibulum eget blandit quam, in consequat orci.\"\n",
    "\n",
    "print(len(x))"
   ]
  },
  {
   "cell_type": "code",
   "execution_count": 5,
   "id": "924ef139",
   "metadata": {},
   "outputs": [
    {
     "name": "stdout",
     "output_type": "stream",
     "text": [
      "Lorem ipsum dolor sit amet,\n",
      "consectetur adipiscing elit,\n",
      "\n",
      "\n",
      "\n",
      "sed do eiusmod tempor incididunt\n",
      "ut labore et dolore magna aliqua.\n"
     ]
    }
   ],
   "source": [
    "x = \"\"\"Lorem ipsum dolor sit amet,\n",
    "consectetur adipiscing elit,\n",
    "\n",
    "\n",
    "\n",
    "sed do eiusmod tempor incididunt\n",
    "ut labore et dolore magna aliqua.\"\"\"\n",
    "\n",
    "print(x)"
   ]
  },
  {
   "cell_type": "markdown",
   "id": "1035f1bf",
   "metadata": {},
   "source": [
    "___\n",
    "\n",
    "‎ \n",
    "\n",
    "## 1.1.1 String Methods\n",
    "\n",
    "Agora vamos olhar para os métodos de um objeto do tipo `str`.\n",
    "\n",
    "‎ \n",
    "\n",
    "- `.lower()` e `.upper()` : Converte a string para minúsculas ou maiúsculas.\n",
    "\n",
    "‎ \n",
    "\n",
    "- `.capitalize()` : Converte o primeiro caractere da string para maiúsculo e todo o resto para minúsculo.\n",
    "\n",
    "‎ \n",
    "\n",
    "- `.title()` : Converte o primeiro caractere de cada palavra para maiúsculo e os restantes para minúsculo.\n",
    "\n",
    "‎ \n",
    "\n",
    "- `.strip([chars])` : Remove caracteres do início e do final da string\n",
    "\n",
    "    - Por default remove todos os tipos de espaços em branco (espaços, tabulações \\t, novas linhas \\n).\n",
    "\n",
    "    - Tem como atributo uma lista, [chars], onde pode-se especificar qualquer número de caracteres a serem removidos. \n",
    "\n",
    "    - Para remover apenas a esquerda utilize `.lstrip([chars])` e para direita `.rstrip([chars])`\n",
    "\n",
    "    - Para remover sequencias de caracteres utilize `.removeprefix()` ou `.removesuffix()`\n",
    "\n",
    "‎ \n",
    "\n",
    "- `.find(sub_string)` : Procura pela primeira ocorrência da substring.\n",
    "\n",
    "    - Se não encontrar retorna `-1`\n",
    "\n",
    "    - Para retornar um erro ao não encontrar utilizar `.index(sub_string)`\n",
    "\n",
    "‎ \n",
    "\n",
    "- `.startswith(prefixo)` e `.endswith(sufixo)` : Retorna um `bool` dependendo do afixo.\n",
    "\n",
    "‎ \n",
    "\n",
    "- `.replace(antigo, novo, count)` : Retorna uma nova string onde todas as ocorrências de `antigo` são substituídas por `novo` um número `count` de vezes. \n",
    "\n",
    "    - Por default, o `count` é `-1` : Substitui em todas as possíveis ocorrências. \n",
    "\n",
    "‎ \n",
    "\n",
    "- `.split([sep])` : Divide a string em uma lista, `list`, usando o `sep` como ponto de quebra. \n",
    "\n",
    "    - O comportamento default, ao utilizar `.split()`, a string será separada nos espaços e descarta as entradas vazias.\n",
    "\n",
    "‎ \n",
    "\n",
    "- `.join([strings])` : Junta a string que utilizou o método com todas as strings da lista [strings].\n",
    "\n",
    "\n"
   ]
  },
  {
   "cell_type": "code",
   "execution_count": 17,
   "id": "c2c628e3",
   "metadata": {},
   "outputs": [
    {
     "name": "stdout",
     "output_type": "stream",
     "text": [
      "isso é uma string de exemplo.\n",
      "ISSO É UMA STRING DE EXEMPLO.\n",
      "Isso é uma string de exemplo.\n",
      "Isso É Uma String De Exemplo.\n"
     ]
    }
   ],
   "source": [
    "string_exemplo = \"IsSo é UMa StrInG dE eXempLO.\"\n",
    "\n",
    "print(string_exemplo.lower())\n",
    "print(string_exemplo.upper())\n",
    "print(string_exemplo.capitalize())\n",
    "print(string_exemplo.title())"
   ]
  },
  {
   "cell_type": "code",
   "execution_count": 27,
   "id": "f31a8d5e",
   "metadata": {},
   "outputs": [
    {
     "name": "stdout",
     "output_type": "stream",
     "text": [
      "Antes : \n",
      "\t Input com espaços e tabs inicias.        \n",
      "\n",
      "Depois : Input com espaços e tabs inicias.\n"
     ]
    }
   ],
   "source": [
    "string_exemplo = \"\\n\\t Input com espaços e tabs inicias.        \"\n",
    "\n",
    "print(f\"Antes : {string_exemplo}\", end = \"\\n\\n\")\n",
    "print(f\"Depois : {string_exemplo.strip()}\")"
   ]
  },
  {
   "cell_type": "code",
   "execution_count": 8,
   "id": "f41c1a25",
   "metadata": {},
   "outputs": [
    {
     "name": "stdout",
     "output_type": "stream",
     "text": [
      "exemplo.com\n"
     ]
    }
   ],
   "source": [
    "url = \"www.exemplo.com./\"\n",
    "\n",
    "print(url.strip(\"w./\"))"
   ]
  },
  {
   "cell_type": "code",
   "execution_count": 31,
   "id": "5494da6f",
   "metadata": {},
   "outputs": [
    {
     "name": "stdout",
     "output_type": "stream",
     "text": [
      "@ : 7\n",
      ".br : -1\n"
     ]
    }
   ],
   "source": [
    "email = \"contato@meudominio.com\"\n",
    "\n",
    "posicao_arroba = email.find(\"@\")\n",
    "\n",
    "posicao_ponto_br = email.find(\".br\")\n",
    "\n",
    "print(f\"@ : {posicao_arroba}\\n.br : {posicao_ponto_br}\")"
   ]
  },
  {
   "cell_type": "code",
   "execution_count": null,
   "id": "44ae31f3",
   "metadata": {},
   "outputs": [
    {
     "name": "stdout",
     "output_type": "stream",
     "text": [
      "É um arquivo de imagem válido? ~> False\n"
     ]
    }
   ],
   "source": [
    "nome_arquivo = \"imagem_01.JPG\"\n",
    "\n",
    "print(f\"É um arquivo de imagem válido? ~> {nome_arquivo.lower().endswith(('.png', '.jpg', '.jpeg'))}\")"
   ]
  },
  {
   "cell_type": "code",
   "execution_count": 13,
   "id": "0001ff28",
   "metadata": {},
   "outputs": [
    {
     "name": "stdout",
     "output_type": "stream",
     "text": [
      "12345678900\n"
     ]
    }
   ],
   "source": [
    "cpf = \"123.456.789-00\"\n",
    "\n",
    "cpf_numerico = cpf.replace(\".\", \"\").replace(\"-\", \"\")\n",
    "\n",
    "print(cpf_numerico)"
   ]
  },
  {
   "cell_type": "code",
   "execution_count": null,
   "id": "e9d4c7e7",
   "metadata": {},
   "outputs": [
    {
     "name": "stdout",
     "output_type": "stream",
     "text": [
      "['isso', 'é', 'um', 'teste']\n",
      "['maçã', 'banana', 'laranja']\n"
     ]
    }
   ],
   "source": [
    "frase_complexa = \"   isso     é um \\n\\t   teste   \"\n",
    "print(frase_complexa.split()) \n",
    "\n",
    "csv = \"maçã,banana,laranja\"\n",
    "print(csv.split(\",\")) "
   ]
  },
  {
   "cell_type": "code",
   "execution_count": null,
   "id": "e9fc5d7d",
   "metadata": {},
   "outputs": [
    {
     "name": "stdout",
     "output_type": "stream",
     "text": [
      "Primeira entrada : primeira_entrada\n",
      "Segunda entrada : segunda_estrada\n"
     ]
    }
   ],
   "source": [
    "string_composta = \"primeira_entrada segunda_estrada\"\n",
    "\n",
    "string_composta_1, string_composta_2 = string_composta.split()\n",
    "\n",
    "print(f\"Primeira entrada : {string_composta_1}\\nSegunda entrada : {string_composta_2}\")"
   ]
  },
  {
   "cell_type": "code",
   "execution_count": 17,
   "id": "72c86de8",
   "metadata": {},
   "outputs": [
    {
     "name": "stdout",
     "output_type": "stream",
     "text": [
      "abc\n",
      "a b c\n",
      "a, b, c\n",
      "a - b - c\n"
     ]
    }
   ],
   "source": [
    "letras = [\"a\", \"b\", \"c\"]\n",
    "\n",
    "print(\"\".join(letras))\n",
    "print(\" \".join(letras))\n",
    "print(\", \".join(letras))\n",
    "print(\" - \".join(letras))"
   ]
  },
  {
   "cell_type": "code",
   "execution_count": 43,
   "id": "3b08ec80",
   "metadata": {},
   "outputs": [
    {
     "name": "stdout",
     "output_type": "stream",
     "text": [
      "GMeu nome éaMeu nome ébMeu nome érMeu nome éiMeu nome éeMeu nome él\n"
     ]
    }
   ],
   "source": [
    "# Atenção, .join não é igual ao + !\n",
    "\n",
    "a = \"Meu nome é\"\n",
    "b = \"gAbRIEl\"\n",
    "\n",
    "print(a.join(b.capitalize()))"
   ]
  },
  {
   "cell_type": "code",
   "execution_count": 50,
   "id": "c3f61bec",
   "metadata": {},
   "outputs": [
    {
     "name": "stdout",
     "output_type": "stream",
     "text": [
      "https://example.com/blog/2025/02/join-string\n"
     ]
    }
   ],
   "source": [
    "base_url = \"https://example.com/\"\n",
    "\n",
    "subpaths = [\"blog\", \"2025\", \"02\", \"join-string\"]\n",
    "\n",
    "full_url = base_url + \"/\".join(subpaths)\n",
    "\n",
    "print(full_url)"
   ]
  },
  {
   "attachments": {
    "image.png": {
     "image/png": "[encoded data removed]"
    }
   },
   "cell_type": "markdown",
   "id": "c5e36e8c",
   "metadata": {},
   "source": [
    "___\n",
    "\n",
    "‎ \n",
    "\n",
    "## 1.1.2 String Slicing\n",
    "\n",
    "String Slicing ou Parsing é um método um pouco mais complexo de manipulação de elementos de uma string. \n",
    "\n",
    "Para isso primeiro temos que entender que a string no python, `str`, é na verdade um **Array** e não um elemento apenas. \n",
    "\n",
    "- **Array** : É um estrutura de dados que armazena uma coleção de elementos de mesmo tipo em um bloco de memória contígua.\n",
    "\n",
    "No caso da string, temos um array de **elementos do tipo caracteres Unicode de texto**. Sendo assim, como temos uma estrutura de sequência de elementos, *podemos acessar elementos específicos dessa sequência.*\n",
    "\n",
    "‎ \n",
    "\n",
    "Para acessar esses elementos utilizar a seguinte sintaxe: \n",
    "\n",
    "`[start:stop:step]`\n",
    "\n",
    "- `start` : O índice do primeiro caractere incluído. O padrão é 0 (que corresponde ao início).\n",
    "\n",
    "- `stop` : O índice do caractere onde deve parar, esse não entra. O padrão é até o final da string.\n",
    "\n",
    "- `step` : O intervalo entre os caracteres. O padrão é 1.\n",
    "\n",
    "![image.png](attachment:image.png)\n"
   ]
  },
  {
   "cell_type": "code",
   "execution_count": 60,
   "id": "0decf014",
   "metadata": {},
   "outputs": [
    {
     "name": "stdout",
     "output_type": "stream",
     "text": [
      "Hello, World!\n",
      "Hello, World!\n",
      "Hello, World!\n",
      "Hello, World!\n"
     ]
    }
   ],
   "source": [
    "frase = \"Hello, World!\"\n",
    "\n",
    "print(frase)\n",
    "\n",
    "print(frase[:])\n",
    "\n",
    "print(frase[::1])\n",
    "\n",
    "print(frase[::])"
   ]
  },
  {
   "cell_type": "code",
   "execution_count": 64,
   "id": "7dfc6658",
   "metadata": {},
   "outputs": [
    {
     "name": "stdout",
     "output_type": "stream",
     "text": [
      "H e l l o  ... \n"
     ]
    }
   ],
   "source": [
    "print(frase[0], frase[1], frase[2], frase[3], frase[4], \" ... \")"
   ]
  },
  {
   "cell_type": "code",
   "execution_count": 66,
   "id": "5cf8144d",
   "metadata": {},
   "outputs": [
    {
     "name": "stdout",
     "output_type": "stream",
     "text": [
      "! d l r o W  ... \n"
     ]
    }
   ],
   "source": [
    "print(frase[-1], frase[-2], frase[-3], frase[-4], frase[-5], frase[-6], \" ... \")"
   ]
  },
  {
   "cell_type": "code",
   "execution_count": 78,
   "id": "7c5a0813",
   "metadata": {},
   "outputs": [
    {
     "name": "stdout",
     "output_type": "stream",
     "text": [
      "Hell\n",
      "Hello\n",
      "Hello\n"
     ]
    }
   ],
   "source": [
    "# Não inclui o ultimo do final.\n",
    "print(frase[0:4])\n",
    "\n",
    "print(frase[0:5])\n",
    "\n",
    "print(frase[:5])"
   ]
  },
  {
   "cell_type": "code",
   "execution_count": null,
   "id": "c6aabcbe",
   "metadata": {},
   "outputs": [
    {
     "name": "stdout",
     "output_type": "stream",
     "text": [
      " World!\n",
      " World!\n"
     ]
    }
   ],
   "source": [
    "print(frase[6:len(frase)])\n",
    "\n",
    "print(frase[6:])"
   ]
  },
  {
   "cell_type": "code",
   "execution_count": 79,
   "id": "d5faaccf",
   "metadata": {},
   "outputs": [
    {
     "name": "stdout",
     "output_type": "stream",
     "text": [
      "lo, W\n"
     ]
    }
   ],
   "source": [
    "print(frase[3:8])"
   ]
  },
  {
   "cell_type": "code",
   "execution_count": 82,
   "id": "f9e26bd7",
   "metadata": {},
   "outputs": [
    {
     "name": "stdout",
     "output_type": "stream",
     "text": [
      "Hello, World!\n",
      "Hlo ol!\n",
      "Hl r!\n",
      "Hoo!\n"
     ]
    }
   ],
   "source": [
    "print(frase[::1])\n",
    "print(frase[::2])\n",
    "print(frase[::3])\n",
    "print(frase[::4])"
   ]
  },
  {
   "cell_type": "code",
   "execution_count": 83,
   "id": "1571e476",
   "metadata": {},
   "outputs": [
    {
     "name": "stdout",
     "output_type": "stream",
     "text": [
      "Hello, World!\n",
      "!dlroW ,olleH\n"
     ]
    }
   ],
   "source": [
    "print(frase[::1])\n",
    "\n",
    "print(frase[::-1])"
   ]
  },
  {
   "cell_type": "markdown",
   "id": "285771d1",
   "metadata": {},
   "source": [
    "‎ \n",
    "\n",
    "___\n",
    "\n",
    "‎ \n",
    "\n",
    "> ## 1.2 Integer\n",
    "\n",
    "\n",
    "Um `int` representa um número inteiro positivo, negativo ou zero, sem nenhuma parte decimal.\n",
    "\n",
    "‎\n",
    "\n",
    "- Função `int(number, base = base)` : Transforma uma **string** ou **float** na base `base` em um número inteiro.\n",
    "\n",
    "    - Caso o `number` seja um float, a parte decimal é truncada e não arredondada.\n",
    "\n",
    "    - Caso o `number` seja uma string é possível utilizar uma `base`.\n",
    "\n",
    "    - Caso não seja providenciado um `number` a função retorna `0`."
   ]
  },
  {
   "cell_type": "code",
   "execution_count": 19,
   "id": "51d67491",
   "metadata": {},
   "outputs": [
    {
     "name": "stdout",
     "output_type": "stream",
     "text": [
      "10000000\n",
      "<class 'int'>\n",
      "8\n"
     ]
    }
   ],
   "source": [
    "x = 10_000_000\n",
    "\n",
    "print(x)\n",
    "\n",
    "print(type(x))\n",
    "\n",
    "print(len(str(x)))"
   ]
  },
  {
   "cell_type": "code",
   "execution_count": 8,
   "id": "984fba27",
   "metadata": {},
   "outputs": [
    {
     "data": {
      "text/plain": [
       "0"
      ]
     },
     "execution_count": 8,
     "metadata": {},
     "output_type": "execute_result"
    }
   ],
   "source": [
    "int()"
   ]
  },
  {
   "cell_type": "code",
   "execution_count": 10,
   "id": "dcfd86b3",
   "metadata": {},
   "outputs": [
    {
     "name": "stdout",
     "output_type": "stream",
     "text": [
      "<class 'int'>\n"
     ]
    }
   ],
   "source": [
    "print(type(int(\"11\")))"
   ]
  },
  {
   "cell_type": "code",
   "execution_count": 15,
   "id": "3fb15913",
   "metadata": {},
   "outputs": [
    {
     "data": {
      "text/plain": [
       "42"
      ]
     },
     "execution_count": 15,
     "metadata": {},
     "output_type": "execute_result"
    }
   ],
   "source": [
    "int(\"0x2A\", base = 16)"
   ]
  },
  {
   "cell_type": "code",
   "execution_count": null,
   "id": "09c3e4b0",
   "metadata": {},
   "outputs": [
    {
     "name": "stdout",
     "output_type": "stream",
     "text": [
      "2.718281828459045\n",
      "2\n"
     ]
    }
   ],
   "source": [
    "from math import e\n",
    "\n",
    "print(e)\n",
    "\n",
    "print(int(e))"
   ]
  },
  {
   "cell_type": "code",
   "execution_count": 20,
   "id": "37664844",
   "metadata": {},
   "outputs": [
    {
     "name": "stdout",
     "output_type": "stream",
     "text": [
      "Ano de nascimento: 2015\n"
     ]
    }
   ],
   "source": [
    "idade = input(\"Qaul a sua idade ?\\n>\")\n",
    "\n",
    "print(f\"Ano de nascimento: {2025 - int(idade)}\")"
   ]
  },
  {
   "cell_type": "markdown",
   "id": "a6c20a8c",
   "metadata": {},
   "source": [
    "‎ \n",
    "\n",
    "___\n",
    "\n",
    "‎ \n",
    "\n",
    "> ## 1.3 Float\n",
    "\n",
    "Um `float` representa um número real positivo, negativo com uma parte decimal.\n",
    "\n",
    "‎\n",
    "\n",
    "- Função `float(number, base = base)` : Transforma uma **string** ou **numero** em um número real.\n",
    "\n",
    "    - Caso não seja providenciado um `number` a função retorna `0.0`.\n",
    "\n",
    "‎\n",
    "\n",
    "A classe `float` também tem alguns métodos importantes: \n",
    "\n",
    "‎\n",
    "\n",
    "- `.as_integer_ratio()` : Retorna um par de inteiros, em uma lista, cuja razão é exatamente igual ao float original.\n",
    "\n",
    "- `.is_integer()` : Retorna `True` se for um inteiro. "
   ]
  },
  {
   "cell_type": "code",
   "execution_count": 26,
   "id": "33a6ff9c",
   "metadata": {},
   "outputs": [
    {
     "name": "stdout",
     "output_type": "stream",
     "text": [
      "0.0\n",
      "True\n"
     ]
    }
   ],
   "source": [
    "x = float()\n",
    "\n",
    "print(x)\n",
    "\n",
    "print(x.is_integer())"
   ]
  },
  {
   "cell_type": "code",
   "execution_count": 25,
   "id": "1c5290db",
   "metadata": {},
   "outputs": [
    {
     "name": "stdout",
     "output_type": "stream",
     "text": [
      "42.123145\n",
      "False\n"
     ]
    }
   ],
   "source": [
    "x = float(\"42.123145\")\n",
    "\n",
    "print(x)\n",
    "\n",
    "print(x.is_integer())"
   ]
  },
  {
   "cell_type": "code",
   "execution_count": null,
   "id": "45f8e9a0",
   "metadata": {},
   "outputs": [
    {
     "name": "stdout",
     "output_type": "stream",
     "text": [
      "2.25\n",
      "(9, 4)\n",
      "9/4 = 2.25\n"
     ]
    }
   ],
   "source": [
    "x = 2.25\n",
    "\n",
    "print(x)\n",
    "\n",
    "print(x.as_integer_ratio())\n",
    "\n",
    "num, den = x.as_integer_ratio()\n",
    "\n",
    "print(f\"{num}/{den} = {num/den}\")"
   ]
  },
  {
   "cell_type": "code",
   "execution_count": 32,
   "id": "5b4ca500",
   "metadata": {},
   "outputs": [
    {
     "name": "stdout",
     "output_type": "stream",
     "text": [
      "3.141592653589793\n",
      "884279719003555/281474976710656 = 3.141592653589793\n"
     ]
    }
   ],
   "source": [
    "from math import pi \n",
    "\n",
    "print(pi)\n",
    "\n",
    "num, den = pi.as_integer_ratio()\n",
    "\n",
    "print(f\"{num}/{den} = {num/den}\")"
   ]
  },
  {
   "cell_type": "markdown",
   "id": "e42198a5",
   "metadata": {},
   "source": [
    "‎ \n",
    "\n",
    "___\n",
    "\n",
    "‎ \n",
    "\n",
    "> # 2. DataTypes Compostas\n",
    "\n",
    "\n",
    "Assim como vimos os DataTypes primitivos, as seguintes classes podem armazenar vários tipos distintos de DataTypes primitivos ou compostos.\n",
    "\n",
    "‎ \n",
    "\n",
    "- `list` : Lista - Uma sequência ordenada e mutável de objetos com classes distintas. \n",
    "\n",
    "    - Para iniciar uma lista utilizamos a notação `[objeto_1, ..., objeto_n]`\n",
    "\n",
    "‎ \n",
    "\n",
    "- `tuple` : Tupla - Uma sequência ordenada e imutável de objetos com classes distintas.\n",
    "\n",
    "    - Para iniciar uma tupla utilizamos a notação `(objeto_1, ..., objeto_n)`\n",
    "\n",
    "‎ \n",
    "\n",
    "- `dict` : Dicionário - Uma coleção mutável de pares do tipo `key:value`.\n",
    "\n",
    "    - Para iniciar uma dicionario utilizamos a notação `{key_1 : value_1, ..., key_n : value_n}`\n",
    "\n",
    "‎ \n",
    "\n",
    "- `set` : Conjunto - Uma coleção não ordenada e mutável de objetos únicos (sem repetição).\n",
    "\n",
    "    - Para iniciar uma set utilizamos a notação `{objeto_1, ..., objeto_n}`\n",
    "\n"
   ]
  },
  {
   "cell_type": "code",
   "execution_count": 35,
   "id": "b9884a04",
   "metadata": {},
   "outputs": [
    {
     "name": "stdout",
     "output_type": "stream",
     "text": [
      "[1, '2', [1, 2], (1+5j)]\n",
      "(('ab', [1, 2]), (None, True))\n",
      "{'chave 1': 1, 'chave 2': (('ab', [1, 2]), (None, True))}\n",
      "{1, 2, 3}\n",
      "\n",
      "<class 'list'>\n",
      "<class 'tuple'>\n",
      "<class 'dict'>\n",
      "<class 'set'>\n"
     ]
    }
   ],
   "source": [
    "type_list = [1, \"2\", [1, 2], 1 + 5j]\n",
    "\n",
    "type_tuple = ((\"a\" + \"b\", [1, 2]), (None, True))\n",
    "\n",
    "type_dict = {\"chave 1\" : 1, \"chave 2\" : type_tuple}\n",
    "\n",
    "type_set = {1, 1, 1, 1, 2, 3}\n",
    "\n",
    "\n",
    "print(f\"{type_list}\\n{type_tuple}\\n{type_dict}\\n{type_set}\\n\")\n",
    "\n",
    "\n",
    "print(f\"{type(type_list)}\\n{type(type_tuple)}\\n{type(type_dict)}\\n{type(type_set)}\")\n"
   ]
  },
  {
   "cell_type": "markdown",
   "id": "f4f6dcea",
   "metadata": {},
   "source": [
    "‎ \n",
    "\n",
    "___\n",
    "\n",
    "‎ \n",
    "\n",
    "> # 3. Operadores\n",
    "\n",
    "\n",
    "Os operadores no python são símbolos utilizados para realizar cálculos em expressões ou comparações booleanas. Existem 4 tipos de operadores: \n",
    "\n",
    "‎ \n",
    "1. **Operadores Aritméticos** - Operadores matemáticos básicos.\n",
    "\n",
    "‎ \n",
    "\n",
    "2. **Operadores de Atribuição** - Atribuição de valores a variáveis.\n",
    "\n",
    "‎ \n",
    "\n",
    "3. **Operadores Boolenaos** - Operadores de comparações e lógicos. \n",
    "\n",
    "‎ \n",
    "\n",
    "4. **Operadores Bitwise** - Operadores que agem em bits. "
   ]
  },
  {
   "cell_type": "markdown",
   "id": "db3a9121",
   "metadata": {},
   "source": [
    "‎ \n",
    "\n",
    "___\n",
    "\n",
    "‎ \n",
    "\n",
    "> ## 3.1 Operadores Aritméticos\n",
    "\n",
    "- `+` : Adição \n",
    "\n",
    "- `-` : Subtração\n",
    "\n",
    "- `*` : Multiplicação\n",
    "\n",
    "- `/` : Divisão\n",
    "\n",
    "- `//` : Divisão Inteira - Divide e descarta a parte decimal\n",
    "\n",
    "- `%` : Módulo - Retorna o resto da divisão inteira\n",
    "\n",
    "- `**` : Exponenciação \n",
    "\n",
    "- `-` : Negação - Inverte o sinal de um número"
   ]
  },
  {
   "cell_type": "code",
   "execution_count": 28,
   "id": "c65b69d7",
   "metadata": {},
   "outputs": [
    {
     "name": "stdout",
     "output_type": "stream",
     "text": [
      "2\n",
      "11\n",
      "[1, 1]\n",
      "(1, 1, 1, 1)\n"
     ]
    }
   ],
   "source": [
    "print(1 + 1)\n",
    "\n",
    "print(\"1\" + \"1\")\n",
    "\n",
    "print([1] + [1])\n",
    "\n",
    "print((1, 1) + (1, 1))"
   ]
  },
  {
   "cell_type": "code",
   "execution_count": 24,
   "id": "c068c197",
   "metadata": {},
   "outputs": [
    {
     "name": "stdout",
     "output_type": "stream",
     "text": [
      "0\n",
      "-1.0\n"
     ]
    }
   ],
   "source": [
    "print(1 - 1)\n",
    "\n",
    "print(4.0 - 5)"
   ]
  },
  {
   "cell_type": "code",
   "execution_count": 26,
   "id": "9762073a",
   "metadata": {},
   "outputs": [
    {
     "name": "stdout",
     "output_type": "stream",
     "text": [
      "4\n",
      "Oi! Oi! Oi! \n",
      "[1, 1, 1]\n",
      "(1, 1, 1, 1, 1, 1)\n"
     ]
    }
   ],
   "source": [
    "print(2 * 2)\n",
    "\n",
    "print(\"Oi! \" * 3)\n",
    "\n",
    "print([1] * 3)\n",
    "\n",
    "print((1, 1) * 3)"
   ]
  },
  {
   "cell_type": "markdown",
   "id": "b3e5fee6",
   "metadata": {},
   "source": [
    "‎ \n",
    "\n",
    "___\n",
    "\n",
    "‎ \n",
    "\n",
    "> ## 3.2 Operadores de Atribuição\n",
    "\n",
    "- `=` : Atribuição simples\n",
    "\n",
    "- `+=` : Adiciona e atribui\n",
    "\n",
    "- `-=`\n",
    "\n",
    "- `*=`\n",
    "\n",
    "- `/=`\n",
    "\n",
    "- `//=`\n",
    "\n",
    "- `%=`\n",
    "\n",
    "- `**=`\n"
   ]
  },
  {
   "cell_type": "code",
   "execution_count": null,
   "id": "a686c0e0",
   "metadata": {},
   "outputs": [
    {
     "name": "stdout",
     "output_type": "stream",
     "text": [
      "2\n"
     ]
    }
   ],
   "source": [
    "x = 1 \n",
    "\n",
    "x += 1 \n",
    "\n",
    "print(x)"
   ]
  },
  {
   "cell_type": "markdown",
   "id": "a108d8c8",
   "metadata": {},
   "source": [
    "‎ \n",
    "\n",
    "___\n",
    "\n",
    "‎ \n",
    "\n",
    "> ## 3.3 Precedência de Operadores\n",
    "\n",
    "1. `()` : Parênteses\n",
    "\n",
    "2. `**` : Exponenciação\n",
    "\n",
    "3. `+x`, `-x` : Operadores Unários\n",
    "\n",
    "4. `*`, `/`, `//`, `%` : Multiplicação, Divisão, Módulo\n",
    "\n",
    "5. `+`, `-` : Adição e Subtração\n",
    "\n",
    "6. Operadores BitWise\n",
    "\n",
    "7. Operadores Booleanos \n"
   ]
  },
  {
   "cell_type": "code",
   "execution_count": 29,
   "id": "b8cc7a7a",
   "metadata": {},
   "outputs": [
    {
     "name": "stdout",
     "output_type": "stream",
     "text": [
      "15.0\n"
     ]
    }
   ],
   "source": [
    "x = 10 + 4 * 3 ** 2 / 6 - 1\n",
    "\n",
    "print(x)"
   ]
  }
 ],
 "metadata": {
  "kernelspec": {
   "display_name": "base",
   "language": "python",
   "name": "python3"
  },
  "language_info": {
   "codemirror_mode": {
    "name": "ipython",
    "version": 3
   },
   "file_extension": ".py",
   "mimetype": "text/x-python",
   "name": "python",
   "nbconvert_exporter": "python",
   "pygments_lexer": "ipython3",
   "version": "3.11.4"
  }
 },
 "nbformat": 4,
 "nbformat_minor": 5
}
