{
 "cells": [
  {
   "cell_type": "markdown",
   "id": "038fe5bf",
   "metadata": {},
   "source": [
    "> # 1. DataTypes\n",
    "\n",
    "O Python funciona como uma linguagem de tipo dinâmico, ou seja, **não é necessário declarar o tipo de uma variável ao criá-la**.\n",
    "\n",
    "Tipos de dados:\n",
    "\n",
    "- `str` : String - Sequência  de texto\n",
    "\n",
    "    - É inicializada utilizando `\"\"` ou `''`\n",
    "\n",
    "- `int` : Integer - Número inteiro\n",
    "\n",
    "    - São inicializados digitando um número não acompanhando de `.`\n",
    "\n",
    "- `float` : floating Point Number - Números reais\n",
    "\n",
    "- `bool` : Boolean - Representa um operados binário \n",
    "\n",
    "    - Valores verdadeiro (`True`) ou falso (`False`)\n",
    "\n",
    "- `NoneType` : Tipo nulo do python\n",
    "\n",
    "    - Possui apenas um valor : `None`\n",
    "\n",
    "Função `type()` encontra o tipo do dado. "
   ]
  },
  {
   "cell_type": "code",
   "execution_count": 1,
   "id": "0c3e86bc",
   "metadata": {},
   "outputs": [
    {
     "name": "stdout",
     "output_type": "stream",
     "text": [
      "oi 1 1.0 True None\n",
      "<class 'str'>\n",
      "<class 'int'>\n",
      "<class 'float'>\n",
      "<class 'bool'>\n",
      "<class 'NoneType'>\n"
     ]
    }
   ],
   "source": [
    "string_tipo = \"oi\"\n",
    "\n",
    "inteiro_tipo = 1\n",
    "\n",
    "float_tipo = 1.0\n",
    "\n",
    "bool_tipo = True\n",
    "\n",
    "NoneType_tipo = None\n",
    "\n",
    "print(string_tipo, inteiro_tipo, float_tipo, bool_tipo, NoneType_tipo)\n",
    "\n",
    "print(type(string_tipo))\n",
    "print(type(inteiro_tipo))\n",
    "print(type(float_tipo))\n",
    "print(type(bool_tipo))\n",
    "print(type(NoneType_tipo))"
   ]
  },
  {
   "cell_type": "code",
   "execution_count": 2,
   "id": "b916d00c",
   "metadata": {},
   "outputs": [
    {
     "ename": "TypeError",
     "evalue": "can only concatenate str (not \"int\") to str",
     "output_type": "error",
     "traceback": [
      "\u001b[1;31m---------------------------------------------------------------------------\u001b[0m",
      "\u001b[1;31mTypeError\u001b[0m                                 Traceback (most recent call last)",
      "Cell \u001b[1;32mIn[2], line 1\u001b[0m\n\u001b[1;32m----> 1\u001b[0m \u001b[38;5;28mprint\u001b[39m(\u001b[43mstring_tipo\u001b[49m\u001b[43m \u001b[49m\u001b[38;5;241;43m+\u001b[39;49m\u001b[43m \u001b[49m\u001b[43minteiro_tipo\u001b[49m)\n",
      "\u001b[1;31mTypeError\u001b[0m: can only concatenate str (not \"int\") to str"
     ]
    }
   ],
   "source": [
    "print(string_tipo + inteiro_tipo)"
   ]
  },
  {
   "cell_type": "code",
   "execution_count": null,
   "id": "817f1e5f",
   "metadata": {},
   "outputs": [],
   "source": []
  },
  {
   "cell_type": "code",
   "execution_count": null,
   "id": "3ae9e658",
   "metadata": {},
   "outputs": [],
   "source": []
  },
  {
   "cell_type": "code",
   "execution_count": null,
   "id": "7b4e88d6",
   "metadata": {},
   "outputs": [],
   "source": []
  },
  {
   "cell_type": "code",
   "execution_count": null,
   "id": "3df6f04e",
   "metadata": {},
   "outputs": [],
   "source": []
  },
  {
   "cell_type": "code",
   "execution_count": null,
   "id": "df6a1407",
   "metadata": {},
   "outputs": [],
   "source": []
  },
  {
   "cell_type": "code",
   "execution_count": null,
   "id": "e3bd92a6",
   "metadata": {},
   "outputs": [],
   "source": []
  },
  {
   "cell_type": "code",
   "execution_count": null,
   "id": "01dc8f2a",
   "metadata": {},
   "outputs": [],
   "source": []
  },
  {
   "cell_type": "code",
   "execution_count": null,
   "id": "04e6430a",
   "metadata": {},
   "outputs": [],
   "source": []
  },
  {
   "cell_type": "code",
   "execution_count": null,
   "id": "db79c7a2",
   "metadata": {},
   "outputs": [],
   "source": []
  },
  {
   "cell_type": "code",
   "execution_count": null,
   "id": "5fea3c02",
   "metadata": {},
   "outputs": [],
   "source": []
  },
  {
   "cell_type": "code",
   "execution_count": null,
   "id": "f7696d24",
   "metadata": {},
   "outputs": [],
   "source": []
  },
  {
   "cell_type": "code",
   "execution_count": null,
   "id": "ae2a0057",
   "metadata": {},
   "outputs": [],
   "source": []
  },
  {
   "cell_type": "code",
   "execution_count": null,
   "id": "3489a179",
   "metadata": {},
   "outputs": [],
   "source": []
  },
  {
   "cell_type": "code",
   "execution_count": null,
   "id": "6b877423",
   "metadata": {},
   "outputs": [],
   "source": []
  },
  {
   "cell_type": "code",
   "execution_count": null,
   "id": "0eae13f5",
   "metadata": {},
   "outputs": [],
   "source": []
  },
  {
   "cell_type": "code",
   "execution_count": null,
   "id": "c8f5c640",
   "metadata": {},
   "outputs": [],
   "source": []
  },
  {
   "cell_type": "code",
   "execution_count": null,
   "id": "c101e28c",
   "metadata": {},
   "outputs": [],
   "source": []
  }
 ],
 "metadata": {
  "kernelspec": {
   "display_name": "base",
   "language": "python",
   "name": "python3"
  },
  "language_info": {
   "codemirror_mode": {
    "name": "ipython",
    "version": 3
   },
   "file_extension": ".py",
   "mimetype": "text/x-python",
   "name": "python",
   "nbconvert_exporter": "python",
   "pygments_lexer": "ipython3",
   "version": "3.11.4"
  }
 },
 "nbformat": 4,
 "nbformat_minor": 5
}
