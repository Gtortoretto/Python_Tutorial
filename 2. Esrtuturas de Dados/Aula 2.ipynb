{
 "cells": [
  {
   "cell_type": "markdown",
   "id": "038fe5bf",
   "metadata": {},
   "source": [
    "> # 1. DataTypes Primitivos\n",
    "\n",
    "O Python funciona como uma linguagem de tipo dinâmico, ou seja, **não é necessário declarar o tipo de uma variável ao criá-la**.\n",
    "\n",
    "Os DataTypes são representações do tipo que um dado valor pode ter. Os tipos primitivos correspondem e armazenam dados unitários, como um número ou uma afirmação verdadeiro ou falso.\n",
    "\n",
    "Tipos de dados:\n",
    "\n",
    "- `str` : String - Sequência  de texto\n",
    "\n",
    "    - É inicializada utilizando `\"\"` ou `''`\n",
    "\n",
    "- `int` : Integer - Número inteiro\n",
    "\n",
    "    - São inicializados digitando um número não acompanhando de `.`\n",
    "\n",
    "- `complex` : Complex Numbers - Números Complexos\n",
    "\n",
    "    - São inicializados digitando um número real e sua parte imaginária seguida do caractere `j`\n",
    "\n",
    "- `float` : floating Point Number - Números reais\n",
    "\n",
    "- `bool` : Boolean - Representa um operados binário \n",
    "\n",
    "    - Valores verdadeiro (`True`) ou falso (`False`)\n",
    "\n",
    "- `NoneType` : Tipo nulo do python\n",
    "\n",
    "    - Possui apenas um valor : `None`\n",
    "\n",
    "Função `type()` encontra o tipo do dado. "
   ]
  },
  {
   "cell_type": "code",
   "execution_count": 2,
   "id": "0c3e86bc",
   "metadata": {},
   "outputs": [
    {
     "name": "stdout",
     "output_type": "stream",
     "text": [
      "oi 1 1.0 (1.5+5j) True None\n",
      "<class 'str'>\n",
      "<class 'int'>\n",
      "<class 'float'>\n",
      "<class 'complex'>\n",
      "<class 'bool'>\n",
      "<class 'NoneType'>\n"
     ]
    }
   ],
   "source": [
    "string_tipo = \"oi\"\n",
    "\n",
    "inteiro_tipo = 1\n",
    "\n",
    "float_tipo = 1.0\n",
    "\n",
    "complexo_tipo = 1.5 + 5j\n",
    "\n",
    "bool_tipo = True\n",
    "\n",
    "NoneType_tipo = None\n",
    "\n",
    "print(string_tipo, inteiro_tipo, float_tipo, complexo_tipo, bool_tipo, NoneType_tipo)\n",
    "\n",
    "print(type(string_tipo))\n",
    "print(type(inteiro_tipo))\n",
    "print(type(float_tipo))\n",
    "print(type(complexo_tipo))\n",
    "print(type(bool_tipo))\n",
    "print(type(NoneType_tipo))"
   ]
  },
  {
   "cell_type": "markdown",
   "id": "2fce6f32",
   "metadata": {},
   "source": [
    "‎ \n",
    "\n",
    "___\n",
    "\n",
    "‎ \n",
    "\n",
    "> ## 1.1 String\n",
    "\n",
    "Uma string é basicamente uma **sequência ordenada** e **imutável** de de caracteres. \n",
    "\n",
    "‎ \n",
    "\n",
    "- Função `str()` :\n",
    "\n",
    "    Para transformar qualquer DataType em `str` basta utilizar a função `str()`:\n",
    "    ```python\n",
    "    str(objeto)\n",
    "    ``` \n",
    "    \n",
    "‎ \n",
    "\n",
    "- Função `len()` :\n",
    "\n",
    "    Retorna o comprimento de uma sequência. \n",
    "    ```python\n",
    "    len(objeto)\n",
    "    ``` "
   ]
  },
  {
   "cell_type": "code",
   "execution_count": 7,
   "id": "579400e3",
   "metadata": {},
   "outputs": [
    {
     "name": "stdout",
     "output_type": "stream",
     "text": [
      "Isso é uma string\n",
      "\n",
      "<class 'str'>\n"
     ]
    }
   ],
   "source": [
    "x = \"Isso é uma string\"\n",
    "\n",
    "print(f\"{x}\", end = \"\\n\\n\")\n",
    "print(type(x))"
   ]
  },
  {
   "cell_type": "code",
   "execution_count": 10,
   "id": "fab307d5",
   "metadata": {},
   "outputs": [
    {
     "name": "stdout",
     "output_type": "stream",
     "text": [
      "10\n",
      "Antes: <class 'int'>\n",
      "10\n",
      "Depois: <class 'str'>\n"
     ]
    }
   ],
   "source": [
    "x = 10\n",
    "\n",
    "print(f\"{x}\")\n",
    "print(f'Antes: {type(x)}')\n",
    "\n",
    "x = str(x)\n",
    "\n",
    "print(f\"{x}\")\n",
    "print(f'Depois: {type(x)}')"
   ]
  },
  {
   "cell_type": "code",
   "execution_count": 11,
   "id": "0c7be6fe",
   "metadata": {},
   "outputs": [
    {
     "name": "stdout",
     "output_type": "stream",
     "text": [
      "506\n"
     ]
    }
   ],
   "source": [
    "x = \"Lorem ipsum dolor sit amet, consectetur adipiscing elit. Curabitur bibendum sollicitudin porttitor. Lorem ipsum dolor sit amet, consectetur adipiscing elit. Sed at vehicula ipsum, ac venenatis justo. Sed ut fermentum diam, at congue neque. Morbi pharetra eu nisi id pulvinar. Praesent vel mattis nunc. Duis imperdiet purus est, in dignissim nulla semper id. Morbi congue tellus est. In varius in tellus et egestas. Morbi ultrices nisl at dignissim interdum. Vestibulum eget blandit quam, in consequat orci.\"\n",
    "\n",
    "print(len(x))"
   ]
  },
  {
   "cell_type": "markdown",
   "id": "1035f1bf",
   "metadata": {},
   "source": [
    "___\n",
    "\n",
    "‎ \n",
    "\n",
    "### 1.1.1 String Methods\n",
    "\n",
    "Agora vamos olhar para os métodos de um objeto do tipo `str`.\n",
    "\n",
    "‎ \n",
    "\n",
    "- `.lower()` e `.upper()` : Converte a string para minúsculas ou maiúsculas.\n",
    "\n",
    "‎ \n",
    "\n",
    "- `.capitalize()` : Converte o primeiro caractere da string para maiúsculo e todo o resto para minúsculo.\n",
    "\n",
    "‎ \n",
    "\n",
    "- `.title()` : Converte o primeiro caractere de cada palavra para maiúsculo e os restantes para minúsculo.\n",
    "\n",
    "‎ \n",
    "\n",
    "- `.strip([chars])` : Remove caracteres do início e do final da string\n",
    "\n",
    "    - Por default remove todos os tipos de espaços em branco (espaços, tabulações \\t, novas linhas \\n).\n",
    "\n",
    "    - Tem como atributo uma lista, [chars], onde pode-se especificar qualquer número de caracteres a serem removidos. \n",
    "\n",
    "    - Para remover apenas a esquerda utilize `.lstrip([chars])` e para direita `.rstrip([chars])`\n",
    "\n",
    "    - Para remover sequencias de caracteres utilize `.removeprefix()` ou `.removesuffix()`\n",
    "\n",
    "‎ \n",
    "\n",
    "- `.find(sub_string)` : Procura pela primeira ocorrência da substring.\n",
    "\n",
    "    - Se não encontrar retorna `-1`\n",
    "\n",
    "    - Para retornar um erro ao não encontrar utilizar `.index(sub_string)`\n",
    "\n",
    "‎ \n",
    "\n",
    "- `.startswith(prefixo)` e `.endswith(sufixo)` : Retorna um `bool` dependendo do afixo.\n",
    "\n",
    "‎ \n",
    "\n",
    "- `.replace(antigo, novo, count)` : Retorna uma nova string onde todas as ocorrências de `antigo` são substituídas por `novo` um número `count` de vezes. \n",
    "\n",
    "    - Por default, o `count` é `-1` : Substitui em todas as possíveis ocorrências. \n",
    "\n",
    "‎ \n",
    "\n",
    "- `.split([sep])` : Divide a string em uma lista, `list`, usando o `sep` como ponto de quebra. \n",
    "\n",
    "    - O comportamento default, ao utilizar `.split()`, a string será separada nos espaços e descarta as entradas vazias.\n",
    "\n",
    "‎ \n",
    "\n",
    "- `.join([strings])` : Junta a string que utilizou o método com todas as strings da lista [strings].\n",
    "\n",
    "\n"
   ]
  },
  {
   "cell_type": "code",
   "execution_count": 17,
   "id": "c2c628e3",
   "metadata": {},
   "outputs": [
    {
     "name": "stdout",
     "output_type": "stream",
     "text": [
      "isso é uma string de exemplo.\n",
      "ISSO É UMA STRING DE EXEMPLO.\n",
      "Isso é uma string de exemplo.\n",
      "Isso É Uma String De Exemplo.\n"
     ]
    }
   ],
   "source": [
    "string_exemplo = \"IsSo é UMa StrInG dE eXempLO.\"\n",
    "\n",
    "print(string_exemplo.lower())\n",
    "print(string_exemplo.upper())\n",
    "print(string_exemplo.capitalize())\n",
    "print(string_exemplo.title())"
   ]
  },
  {
   "cell_type": "code",
   "execution_count": 27,
   "id": "f31a8d5e",
   "metadata": {},
   "outputs": [
    {
     "name": "stdout",
     "output_type": "stream",
     "text": [
      "Antes : \n",
      "\t Input com espaços e tabs inicias.        \n",
      "\n",
      "Depois : Input com espaços e tabs inicias.\n"
     ]
    }
   ],
   "source": [
    "string_exemplo = \"\\n\\t Input com espaços e tabs inicias.        \"\n",
    "\n",
    "print(f\"Antes : {string_exemplo}\", end = \"\\n\\n\")\n",
    "print(f\"Depois : {string_exemplo.strip()}\")"
   ]
  },
  {
   "cell_type": "code",
   "execution_count": 28,
   "id": "f41c1a25",
   "metadata": {},
   "outputs": [
    {
     "name": "stdout",
     "output_type": "stream",
     "text": [
      "exemplo.com\n"
     ]
    }
   ],
   "source": [
    "url = \"www.exemplo.com/\"\n",
    "\n",
    "print(url.strip(\"w./\"))"
   ]
  },
  {
   "cell_type": "code",
   "execution_count": 31,
   "id": "5494da6f",
   "metadata": {},
   "outputs": [
    {
     "name": "stdout",
     "output_type": "stream",
     "text": [
      "@ : 7\n",
      ".br : -1\n"
     ]
    }
   ],
   "source": [
    "email = \"contato@meudominio.com\"\n",
    "\n",
    "posicao_arroba = email.find(\"@\")\n",
    "\n",
    "posicao_ponto_br = email.find(\".br\")\n",
    "\n",
    "print(f\"@ : {posicao_arroba}\\n.br : {posicao_ponto_br}\")"
   ]
  },
  {
   "cell_type": "code",
   "execution_count": 34,
   "id": "44ae31f3",
   "metadata": {},
   "outputs": [
    {
     "name": "stdout",
     "output_type": "stream",
     "text": [
      "É um arquivo de imagem válido? ~> True\n"
     ]
    }
   ],
   "source": [
    "nome_arquivo = \"imagem_01.JPG\"\n",
    "\n",
    "print(f\"É um arquivo de imagem válido? ~> {nome_arquivo.lower().endswith(('.png', '.jpg', '.jpeg'))}\")"
   ]
  },
  {
   "cell_type": "code",
   "execution_count": 36,
   "id": "0001ff28",
   "metadata": {},
   "outputs": [
    {
     "name": "stdout",
     "output_type": "stream",
     "text": [
      "12345678900\n"
     ]
    }
   ],
   "source": [
    "cpf = \"123.456.789-00\"\n",
    "\n",
    "cpf_numerico = cpf.replace(\".\", \"\").replace(\"-\", \"\")\n",
    "\n",
    "print(cpf_numerico)"
   ]
  },
  {
   "cell_type": "code",
   "execution_count": 40,
   "id": "e9d4c7e7",
   "metadata": {},
   "outputs": [
    {
     "name": "stdout",
     "output_type": "stream",
     "text": [
      "['isso', 'é', 'um', 'teste']\n",
      "['maçã', 'banana', 'laranja']\n"
     ]
    }
   ],
   "source": [
    "frase_complexa = \"   isso     é um \\n\\t   teste   \"\n",
    "print(frase_complexa.split()) \n",
    "\n",
    "csv = \"maçã,banana,laranja\"\n",
    "print(csv.split(\",\")) "
   ]
  },
  {
   "cell_type": "code",
   "execution_count": 39,
   "id": "e9fc5d7d",
   "metadata": {},
   "outputs": [
    {
     "name": "stdout",
     "output_type": "stream",
     "text": [
      "Primeira entrada : primeira_entrada\n",
      "Segunda entrada : segunda_estrada\n"
     ]
    }
   ],
   "source": [
    "string_composta = \"primeira_entrada segunda_estrada\"\n",
    "\n",
    "string_composta_1, string_composta_2 = string_composta.split()\n",
    "\n",
    "print(f\"Primeira entrada : {string_composta_1}\\nSegunda entrada : {string_composta_2}\")"
   ]
  },
  {
   "cell_type": "code",
   "execution_count": null,
   "id": "3b08ec80",
   "metadata": {},
   "outputs": [],
   "source": []
  },
  {
   "cell_type": "markdown",
   "id": "e42198a5",
   "metadata": {},
   "source": [
    "> # 2. DataTypes de Coleções\n"
   ]
  },
  {
   "cell_type": "markdown",
   "id": "f4f6dcea",
   "metadata": {},
   "source": [
    "> # 3. Operadores"
   ]
  },
  {
   "cell_type": "markdown",
   "id": "0814f6d3",
   "metadata": {},
   "source": [
    "> # 4. Matemática e Funções Importantes"
   ]
  },
  {
   "cell_type": "code",
   "execution_count": null,
   "id": "817f1e5f",
   "metadata": {},
   "outputs": [],
   "source": []
  },
  {
   "cell_type": "code",
   "execution_count": null,
   "id": "3ae9e658",
   "metadata": {},
   "outputs": [],
   "source": []
  },
  {
   "cell_type": "code",
   "execution_count": null,
   "id": "7b4e88d6",
   "metadata": {},
   "outputs": [],
   "source": []
  },
  {
   "cell_type": "code",
   "execution_count": null,
   "id": "3df6f04e",
   "metadata": {},
   "outputs": [],
   "source": []
  },
  {
   "cell_type": "code",
   "execution_count": null,
   "id": "df6a1407",
   "metadata": {},
   "outputs": [],
   "source": []
  },
  {
   "cell_type": "code",
   "execution_count": null,
   "id": "e3bd92a6",
   "metadata": {},
   "outputs": [],
   "source": []
  },
  {
   "cell_type": "code",
   "execution_count": null,
   "id": "01dc8f2a",
   "metadata": {},
   "outputs": [],
   "source": []
  },
  {
   "cell_type": "code",
   "execution_count": null,
   "id": "04e6430a",
   "metadata": {},
   "outputs": [],
   "source": []
  },
  {
   "cell_type": "code",
   "execution_count": null,
   "id": "db79c7a2",
   "metadata": {},
   "outputs": [],
   "source": []
  },
  {
   "cell_type": "code",
   "execution_count": null,
   "id": "5fea3c02",
   "metadata": {},
   "outputs": [],
   "source": []
  },
  {
   "cell_type": "code",
   "execution_count": null,
   "id": "f7696d24",
   "metadata": {},
   "outputs": [],
   "source": []
  },
  {
   "cell_type": "code",
   "execution_count": null,
   "id": "ae2a0057",
   "metadata": {},
   "outputs": [],
   "source": []
  },
  {
   "cell_type": "code",
   "execution_count": null,
   "id": "3489a179",
   "metadata": {},
   "outputs": [],
   "source": []
  },
  {
   "cell_type": "code",
   "execution_count": null,
   "id": "6b877423",
   "metadata": {},
   "outputs": [],
   "source": []
  },
  {
   "cell_type": "code",
   "execution_count": null,
   "id": "0eae13f5",
   "metadata": {},
   "outputs": [],
   "source": []
  },
  {
   "cell_type": "code",
   "execution_count": null,
   "id": "c8f5c640",
   "metadata": {},
   "outputs": [],
   "source": []
  },
  {
   "cell_type": "code",
   "execution_count": null,
   "id": "c101e28c",
   "metadata": {},
   "outputs": [],
   "source": []
  }
 ],
 "metadata": {
  "kernelspec": {
   "display_name": "base",
   "language": "python",
   "name": "python3"
  },
  "language_info": {
   "codemirror_mode": {
    "name": "ipython",
    "version": 3
   },
   "file_extension": ".py",
   "mimetype": "text/x-python",
   "name": "python",
   "nbconvert_exporter": "python",
   "pygments_lexer": "ipython3",
   "version": "3.11.4"
  }
 },
 "nbformat": 4,
 "nbformat_minor": 5
}
